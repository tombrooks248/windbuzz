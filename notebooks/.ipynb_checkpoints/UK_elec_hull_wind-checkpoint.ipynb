{
 "cells": [
  {
   "cell_type": "code",
   "execution_count": 1,
   "id": "9b766b7b",
   "metadata": {},
   "outputs": [],
   "source": [
    "import numpy as np\n",
    "import pandas as pd\n",
    "from sklearn.svm import SVC\n",
    "from sklearn.preprocessing import StandardScaler\n",
    "from sklearn.preprocessing import MinMaxScaler\n",
    "from sklearn.datasets import make_classification\n",
    "from sklearn.model_selection import train_test_split\n",
    "from sklearn.pipeline import Pipeline\n",
    "from sklearn.pipeline import make_pipeline\n",
    "from sklearn.preprocessing import OneHotEncoder\n",
    "from sklearn.impute import SimpleImputer, KNNImputer\n",
    "\n",
    "from statsmodels.tsa.statespace.sarimax import SARIMAX\n",
    "import pmdarima as pm"
   ]
  },
  {
   "cell_type": "code",
   "execution_count": 2,
   "id": "2410d4b4",
   "metadata": {},
   "outputs": [],
   "source": [
    "import seaborn as sns\n",
    "import matplotlib.pyplot as plt"
   ]
  },
  {
   "cell_type": "code",
   "execution_count": 3,
   "id": "e0f04d41",
   "metadata": {},
   "outputs": [],
   "source": [
    "df = pd.read_csv(\"../data/historic_demand_2009_2023.csv\")"
   ]
  },
  {
   "cell_type": "code",
   "execution_count": 4,
   "id": "fd876d9e",
   "metadata": {},
   "outputs": [],
   "source": [
    "elec_df = df[192_816: 194_788]"
   ]
  },
  {
   "cell_type": "code",
   "execution_count": 5,
   "id": "15d22b49",
   "metadata": {},
   "outputs": [],
   "source": [
    "elec_df = elec_df[[\"settlement_date\", \"embedded_wind_generation\"]]"
   ]
  },
  {
   "cell_type": "code",
   "execution_count": 6,
   "id": "ad319038",
   "metadata": {},
   "outputs": [
    {
     "data": {
      "text/html": [
       "<div>\n",
       "<style scoped>\n",
       "    .dataframe tbody tr th:only-of-type {\n",
       "        vertical-align: middle;\n",
       "    }\n",
       "\n",
       "    .dataframe tbody tr th {\n",
       "        vertical-align: top;\n",
       "    }\n",
       "\n",
       "    .dataframe thead th {\n",
       "        text-align: right;\n",
       "    }\n",
       "</style>\n",
       "<table border=\"1\" class=\"dataframe\">\n",
       "  <thead>\n",
       "    <tr style=\"text-align: right;\">\n",
       "      <th></th>\n",
       "      <th>settlement_date</th>\n",
       "      <th>embedded_wind_generation</th>\n",
       "    </tr>\n",
       "  </thead>\n",
       "  <tbody>\n",
       "    <tr>\n",
       "      <th>192816</th>\n",
       "      <td>2020-01-01</td>\n",
       "      <td>1244</td>\n",
       "    </tr>\n",
       "    <tr>\n",
       "      <th>192817</th>\n",
       "      <td>2020-01-01</td>\n",
       "      <td>1188</td>\n",
       "    </tr>\n",
       "    <tr>\n",
       "      <th>192818</th>\n",
       "      <td>2020-01-01</td>\n",
       "      <td>1156</td>\n",
       "    </tr>\n",
       "    <tr>\n",
       "      <th>192819</th>\n",
       "      <td>2020-01-01</td>\n",
       "      <td>1125</td>\n",
       "    </tr>\n",
       "    <tr>\n",
       "      <th>192820</th>\n",
       "      <td>2020-01-01</td>\n",
       "      <td>1106</td>\n",
       "    </tr>\n",
       "  </tbody>\n",
       "</table>\n",
       "</div>"
      ],
      "text/plain": [
       "       settlement_date  embedded_wind_generation\n",
       "192816      2020-01-01                      1244\n",
       "192817      2020-01-01                      1188\n",
       "192818      2020-01-01                      1156\n",
       "192819      2020-01-01                      1125\n",
       "192820      2020-01-01                      1106"
      ]
     },
     "execution_count": 6,
     "metadata": {},
     "output_type": "execute_result"
    }
   ],
   "source": [
    "elec_df.head()"
   ]
  },
  {
   "cell_type": "code",
   "execution_count": 7,
   "id": "a4a7eb5a",
   "metadata": {},
   "outputs": [
    {
     "data": {
      "text/plain": [
       "979    53.6\n",
       "980    49.7\n",
       "981    57.8\n",
       "982    65.0\n",
       "983    78.4\n",
       "Name: windgust, dtype: float64"
      ]
     },
     "execution_count": 7,
     "metadata": {},
     "output_type": "execute_result"
    }
   ],
   "source": [
    "wind_df = pd.read_csv(\"../data/Hull_2020-01-01_to_2020-02-10.csv\")\n",
    "wind_df[\"windgust\"].tail()\n"
   ]
  },
  {
   "cell_type": "code",
   "execution_count": 8,
   "id": "602abba2",
   "metadata": {},
   "outputs": [],
   "source": [
    "wind_df = wind_df[[\"datetime\",\"windgust\", \"windspeed\"]]"
   ]
  },
  {
   "cell_type": "code",
   "execution_count": null,
   "id": "ded36393",
   "metadata": {},
   "outputs": [],
   "source": []
  },
  {
   "cell_type": "code",
   "execution_count": 9,
   "id": "23deed5d",
   "metadata": {},
   "outputs": [],
   "source": [
    "wind_df['windgust'] = wind_df['windgust'].fillna(0)"
   ]
  },
  {
   "cell_type": "code",
   "execution_count": 10,
   "id": "e2d4ee15",
   "metadata": {},
   "outputs": [
    {
     "data": {
      "text/html": [
       "<div>\n",
       "<style scoped>\n",
       "    .dataframe tbody tr th:only-of-type {\n",
       "        vertical-align: middle;\n",
       "    }\n",
       "\n",
       "    .dataframe tbody tr th {\n",
       "        vertical-align: top;\n",
       "    }\n",
       "\n",
       "    .dataframe thead th {\n",
       "        text-align: right;\n",
       "    }\n",
       "</style>\n",
       "<table border=\"1\" class=\"dataframe\">\n",
       "  <thead>\n",
       "    <tr style=\"text-align: right;\">\n",
       "      <th></th>\n",
       "      <th>datetime</th>\n",
       "      <th>windgust</th>\n",
       "      <th>windspeed</th>\n",
       "    </tr>\n",
       "  </thead>\n",
       "  <tbody>\n",
       "    <tr>\n",
       "      <th>0</th>\n",
       "      <td>2020-01-01T00:00:00</td>\n",
       "      <td>0.0</td>\n",
       "      <td>1.7</td>\n",
       "    </tr>\n",
       "    <tr>\n",
       "      <th>1</th>\n",
       "      <td>2020-01-01T01:00:00</td>\n",
       "      <td>0.0</td>\n",
       "      <td>4.1</td>\n",
       "    </tr>\n",
       "    <tr>\n",
       "      <th>2</th>\n",
       "      <td>2020-01-01T02:00:00</td>\n",
       "      <td>0.0</td>\n",
       "      <td>4.0</td>\n",
       "    </tr>\n",
       "    <tr>\n",
       "      <th>3</th>\n",
       "      <td>2020-01-01T03:00:00</td>\n",
       "      <td>0.0</td>\n",
       "      <td>4.3</td>\n",
       "    </tr>\n",
       "    <tr>\n",
       "      <th>4</th>\n",
       "      <td>2020-01-01T04:00:00</td>\n",
       "      <td>0.0</td>\n",
       "      <td>4.3</td>\n",
       "    </tr>\n",
       "  </tbody>\n",
       "</table>\n",
       "</div>"
      ],
      "text/plain": [
       "              datetime  windgust  windspeed\n",
       "0  2020-01-01T00:00:00       0.0        1.7\n",
       "1  2020-01-01T01:00:00       0.0        4.1\n",
       "2  2020-01-01T02:00:00       0.0        4.0\n",
       "3  2020-01-01T03:00:00       0.0        4.3\n",
       "4  2020-01-01T04:00:00       0.0        4.3"
      ]
     },
     "execution_count": 10,
     "metadata": {},
     "output_type": "execute_result"
    }
   ],
   "source": [
    "wind_df.head()"
   ]
  },
  {
   "cell_type": "code",
   "execution_count": 11,
   "id": "144b35ed",
   "metadata": {},
   "outputs": [
    {
     "data": {
      "text/html": [
       "<div>\n",
       "<style scoped>\n",
       "    .dataframe tbody tr th:only-of-type {\n",
       "        vertical-align: middle;\n",
       "    }\n",
       "\n",
       "    .dataframe tbody tr th {\n",
       "        vertical-align: top;\n",
       "    }\n",
       "\n",
       "    .dataframe thead th {\n",
       "        text-align: right;\n",
       "    }\n",
       "</style>\n",
       "<table border=\"1\" class=\"dataframe\">\n",
       "  <thead>\n",
       "    <tr style=\"text-align: right;\">\n",
       "      <th></th>\n",
       "      <th>datetime</th>\n",
       "      <th>windgust</th>\n",
       "      <th>windspeed</th>\n",
       "    </tr>\n",
       "  </thead>\n",
       "  <tbody>\n",
       "    <tr>\n",
       "      <th>0</th>\n",
       "      <td>2020-01-01T00:00:00</td>\n",
       "      <td>0.0</td>\n",
       "      <td>1.7</td>\n",
       "    </tr>\n",
       "    <tr>\n",
       "      <th>1</th>\n",
       "      <td>2020-01-01T00:00:00</td>\n",
       "      <td>0.0</td>\n",
       "      <td>1.7</td>\n",
       "    </tr>\n",
       "    <tr>\n",
       "      <th>2</th>\n",
       "      <td>2020-01-01T01:00:00</td>\n",
       "      <td>0.0</td>\n",
       "      <td>4.1</td>\n",
       "    </tr>\n",
       "    <tr>\n",
       "      <th>3</th>\n",
       "      <td>2020-01-01T01:00:00</td>\n",
       "      <td>0.0</td>\n",
       "      <td>4.1</td>\n",
       "    </tr>\n",
       "    <tr>\n",
       "      <th>4</th>\n",
       "      <td>2020-01-01T02:00:00</td>\n",
       "      <td>0.0</td>\n",
       "      <td>4.0</td>\n",
       "    </tr>\n",
       "  </tbody>\n",
       "</table>\n",
       "</div>"
      ],
      "text/plain": [
       "              datetime windgust windspeed\n",
       "0  2020-01-01T00:00:00      0.0       1.7\n",
       "1  2020-01-01T00:00:00      0.0       1.7\n",
       "2  2020-01-01T01:00:00      0.0       4.1\n",
       "3  2020-01-01T01:00:00      0.0       4.1\n",
       "4  2020-01-01T02:00:00      0.0       4.0"
      ]
     },
     "execution_count": 11,
     "metadata": {},
     "output_type": "execute_result"
    }
   ],
   "source": [
    "wind_df_long = pd.DataFrame(np.repeat(wind_df.values, 2, axis=0))\n",
    "wind_df_long.columns = wind_df.columns\n",
    "wind_df_long.head()"
   ]
  },
  {
   "cell_type": "code",
   "execution_count": 12,
   "id": "cc8aec11",
   "metadata": {},
   "outputs": [],
   "source": [
    "wind_df_long[\"windspeed\"] = wind_df_long[\"windspeed\"]*100"
   ]
  },
  {
   "cell_type": "code",
   "execution_count": 13,
   "id": "d915673e",
   "metadata": {},
   "outputs": [
    {
     "data": {
      "text/html": [
       "<div>\n",
       "<style scoped>\n",
       "    .dataframe tbody tr th:only-of-type {\n",
       "        vertical-align: middle;\n",
       "    }\n",
       "\n",
       "    .dataframe tbody tr th {\n",
       "        vertical-align: top;\n",
       "    }\n",
       "\n",
       "    .dataframe thead th {\n",
       "        text-align: right;\n",
       "    }\n",
       "</style>\n",
       "<table border=\"1\" class=\"dataframe\">\n",
       "  <thead>\n",
       "    <tr style=\"text-align: right;\">\n",
       "      <th></th>\n",
       "      <th>datetime</th>\n",
       "      <th>windgust</th>\n",
       "      <th>windspeed</th>\n",
       "    </tr>\n",
       "  </thead>\n",
       "  <tbody>\n",
       "    <tr>\n",
       "      <th>0</th>\n",
       "      <td>2020-01-01T00:00:00</td>\n",
       "      <td>0.0</td>\n",
       "      <td>170.0</td>\n",
       "    </tr>\n",
       "    <tr>\n",
       "      <th>1</th>\n",
       "      <td>2020-01-01T00:00:00</td>\n",
       "      <td>0.0</td>\n",
       "      <td>170.0</td>\n",
       "    </tr>\n",
       "    <tr>\n",
       "      <th>2</th>\n",
       "      <td>2020-01-01T01:00:00</td>\n",
       "      <td>0.0</td>\n",
       "      <td>410.0</td>\n",
       "    </tr>\n",
       "    <tr>\n",
       "      <th>3</th>\n",
       "      <td>2020-01-01T01:00:00</td>\n",
       "      <td>0.0</td>\n",
       "      <td>410.0</td>\n",
       "    </tr>\n",
       "    <tr>\n",
       "      <th>4</th>\n",
       "      <td>2020-01-01T02:00:00</td>\n",
       "      <td>0.0</td>\n",
       "      <td>400.0</td>\n",
       "    </tr>\n",
       "  </tbody>\n",
       "</table>\n",
       "</div>"
      ],
      "text/plain": [
       "              datetime windgust windspeed\n",
       "0  2020-01-01T00:00:00      0.0     170.0\n",
       "1  2020-01-01T00:00:00      0.0     170.0\n",
       "2  2020-01-01T01:00:00      0.0     410.0\n",
       "3  2020-01-01T01:00:00      0.0     410.0\n",
       "4  2020-01-01T02:00:00      0.0     400.0"
      ]
     },
     "execution_count": 13,
     "metadata": {},
     "output_type": "execute_result"
    }
   ],
   "source": [
    "wind_df_long.head()"
   ]
  },
  {
   "cell_type": "code",
   "execution_count": 31,
   "id": "c219b827",
   "metadata": {},
   "outputs": [],
   "source": [
    "test_begin_point = 1550"
   ]
  },
  {
   "cell_type": "code",
   "execution_count": 32,
   "id": "7803b673",
   "metadata": {},
   "outputs": [
    {
     "data": {
      "text/plain": [
       "1550"
      ]
     },
     "execution_count": 32,
     "metadata": {},
     "output_type": "execute_result"
    }
   ],
   "source": [
    "endog_train = elec_df[\"embedded_wind_generation\"][:test_begin_point].to_numpy()\n",
    "endog_train = np.array(endog_train, dtype=float)\n",
    "len(endog_train)"
   ]
  },
  {
   "cell_type": "code",
   "execution_count": 33,
   "id": "a5f800ce",
   "metadata": {},
   "outputs": [
    {
     "data": {
      "text/plain": [
       "418"
      ]
     },
     "execution_count": 33,
     "metadata": {},
     "output_type": "execute_result"
    }
   ],
   "source": [
    "endog_test_df = elec_df[\"embedded_wind_generation\"][test_begin_point:-4]\n",
    "endog_test = np.array(endog_test_df, dtype=float)\n",
    "len(endog_test)"
   ]
  },
  {
   "cell_type": "code",
   "execution_count": 34,
   "id": "9fa60a56",
   "metadata": {},
   "outputs": [
    {
     "data": {
      "text/plain": [
       "1550"
      ]
     },
     "execution_count": 34,
     "metadata": {},
     "output_type": "execute_result"
    }
   ],
   "source": [
    "exog_train = wind_df_long[\"windspeed\"][:test_begin_point].to_numpy()\n",
    "exog_train = np.array(exog_train, dtype=float)\n",
    "exog_train = exog_train\n",
    "len(exog_train)"
   ]
  },
  {
   "cell_type": "code",
   "execution_count": 35,
   "id": "1fea96c6",
   "metadata": {},
   "outputs": [
    {
     "data": {
      "text/plain": [
       "418"
      ]
     },
     "execution_count": 35,
     "metadata": {},
     "output_type": "execute_result"
    }
   ],
   "source": [
    "exog_test = wind_df_long[\"windspeed\"][test_begin_point:].to_numpy()\n",
    "exog_test = np.array(exog_test, dtype=float)\n",
    "exog_test = exog_test\n",
    "len(exog_test)"
   ]
  },
  {
   "cell_type": "code",
   "execution_count": 36,
   "id": "e79cf799",
   "metadata": {},
   "outputs": [],
   "source": [
    "# import pmdarima as pm\n",
    "# sarimax = pm.auto_arima(elec_df[\"embedded_wind_generation\"], exogenous=wind_df_long[\"windspeed\"],\n",
    "#                            start_p=0, start_q=0,\n",
    "#                            test='adf',\n",
    "#                            max_p=2, max_q=2, m=12,\n",
    "#                            start_P=0, seasonal=True,\n",
    "#                            d=None, D=1, trace=True,\n",
    "#                            suppress_warnings=True, \n",
    "#                            stepwise=True)"
   ]
  },
  {
   "cell_type": "code",
   "execution_count": null,
   "id": "9c4b4a02",
   "metadata": {},
   "outputs": [],
   "source": []
  },
  {
   "cell_type": "code",
   "execution_count": 37,
   "id": "b2745bf9",
   "metadata": {},
   "outputs": [
    {
     "data": {
      "text/plain": [
       "<statsmodels.tsa.statespace.sarimax.SARIMAX at 0x1541348b0>"
      ]
     },
     "execution_count": 37,
     "metadata": {},
     "output_type": "execute_result"
    }
   ],
   "source": [
    "SARIMAX(endog=endog_train,\n",
    "        exog=exog_train,\n",
    "        order=(2, 0, 2),seasonal_order=(2,1,0,12)\n",
    "       )"
   ]
  },
  {
   "cell_type": "code",
   "execution_count": 38,
   "id": "53370d11",
   "metadata": {},
   "outputs": [
    {
     "name": "stdout",
     "output_type": "stream",
     "text": [
      "RUNNING THE L-BFGS-B CODE\n",
      "\n",
      "           * * *\n",
      "\n",
      "Machine precision = 2.220D-16\n",
      " N =            5     M =           10\n",
      "\n",
      "At X0         0 variables are exactly at the bounds\n",
      "\n",
      "At iterate    0    f=  7.01819D+00    |proj g|=  8.28595D-01\n"
     ]
    },
    {
     "name": "stderr",
     "output_type": "stream",
     "text": [
      " This problem is unconstrained.\n"
     ]
    },
    {
     "name": "stdout",
     "output_type": "stream",
     "text": [
      "\n",
      "At iterate    5    f=  6.75014D+00    |proj g|=  3.11250D-02\n",
      "\n",
      "At iterate   10    f=  6.73331D+00    |proj g|=  7.16262D-03\n",
      "\n",
      "At iterate   15    f=  6.69953D+00    |proj g|=  1.64016D-01\n",
      "\n",
      "At iterate   20    f=  6.60263D+00    |proj g|=  4.97657D-02\n",
      "\n",
      "           * * *\n",
      "\n",
      "Tit   = total number of iterations\n",
      "Tnf   = total number of function evaluations\n",
      "Tnint = total number of segments explored during Cauchy searches\n",
      "Skip  = number of BFGS updates skipped\n",
      "Nact  = number of active bounds at final generalized Cauchy point\n",
      "Projg = norm of the final projected gradient\n",
      "F     = final function value\n",
      "\n",
      "           * * *\n",
      "\n",
      "   N    Tit     Tnf  Tnint  Skip  Nact     Projg        F\n",
      "    5     24     30      1     0     0   8.103D-06   6.601D+00\n",
      "  F =   6.6006166277252722     \n",
      "\n",
      "CONVERGENCE: NORM_OF_PROJECTED_GRADIENT_<=_PGTOL            \n"
     ]
    }
   ],
   "source": [
    "mod = SARIMAX(endog_train, order=(1, 0, 0),seasonal_order=(2,1,0,12), exog=exog_train, alpha=0.02, beta=0.02)\n",
    "mod = mod.fit(maxiter=300)"
   ]
  },
  {
   "cell_type": "code",
   "execution_count": 39,
   "id": "12964e95",
   "metadata": {},
   "outputs": [
    {
     "name": "stdout",
     "output_type": "stream",
     "text": [
      "                                     SARIMAX Results                                      \n",
      "==========================================================================================\n",
      "Dep. Variable:                                  y   No. Observations:                 1550\n",
      "Model:             SARIMAX(1, 0, 0)x(2, 1, 0, 12)   Log Likelihood              -10230.956\n",
      "Date:                            Tue, 21 Mar 2023   AIC                          20471.912\n",
      "Time:                                    19:59:28   BIC                          20498.603\n",
      "Sample:                                         0   HQIC                         20481.843\n",
      "                                           - 1550                                         \n",
      "Covariance Type:                              opg                                         \n",
      "==============================================================================\n",
      "                 coef    std err          z      P>|z|      [0.025      0.975]\n",
      "------------------------------------------------------------------------------\n",
      "x1             0.0004      0.014      0.027      0.979      -0.028       0.029\n",
      "ar.L1          1.0000      0.004    275.358      0.000       0.993       1.007\n",
      "ar.S.L12      -0.6322      0.005   -128.837      0.000      -0.642      -0.623\n",
      "ar.S.L24      -0.3399      0.005    -65.430      0.000      -0.350      -0.330\n",
      "sigma2      3.489e+04    230.513    151.348      0.000    3.44e+04    3.53e+04\n",
      "===================================================================================\n",
      "Ljung-Box (L1) (Q):                  80.42   Jarque-Bera (JB):           1357990.40\n",
      "Prob(Q):                              0.00   Prob(JB):                         0.00\n",
      "Heteroskedasticity (H):               5.55   Skew:                            -0.01\n",
      "Prob(H) (two-sided):                  0.00   Kurtosis:                       148.57\n",
      "===================================================================================\n",
      "\n",
      "Warnings:\n",
      "[1] Covariance matrix calculated using the outer product of gradients (complex-step).\n"
     ]
    }
   ],
   "source": [
    "print(mod.summary())"
   ]
  },
  {
   "cell_type": "code",
   "execution_count": 47,
   "id": "623c1e79",
   "metadata": {},
   "outputs": [],
   "source": [
    "# Forecast\n",
    "forecast_length = 100\n",
    "results = mod.get_forecast(forecast_length, exog = exog_test[:forecast_length], alpha=0.05)\n",
    "forecast = results.predicted_mean\n",
    "confidence_int = results.conf_int()"
   ]
  },
  {
   "cell_type": "code",
   "execution_count": null,
   "id": "bf2d5eba",
   "metadata": {},
   "outputs": [],
   "source": []
  },
  {
   "cell_type": "code",
   "execution_count": 48,
   "id": "9e891d32",
   "metadata": {},
   "outputs": [],
   "source": [
    "def plot_forecast(fc, train, test, windspeed, upper=None, lower=None):\n",
    "    is_confidence_int = isinstance(upper, np.ndarray) and isinstance(lower, np.ndarray)\n",
    "    # Prepare plot series\n",
    "    fc_series = pd.Series(fc, index=test.index)\n",
    "    wind_series = pd.Series(windspeed)\n",
    "    wind_series = wind_series\n",
    "    lower_series = pd.Series(upper, index=test.index) if is_confidence_int else None\n",
    "    upper_series = pd.Series(lower, index=test.index) if is_confidence_int else None\n",
    "\n",
    "    # Plot\n",
    "    plt.figure(figsize=(10,4), dpi=100)\n",
    "    plt.plot(train, label='training generation', color='black')\n",
    "    plt.plot(test, label='actual generation', color='black', ls='--')\n",
    "    plt.plot(fc_series, label='forecast generation', color='orange')\n",
    "    plt.plot(wind_series, label='wind speed in hull', color='blue')\n",
    "    if is_confidence_int:\n",
    "        plt.fill_between(lower_series.index, lower_series, upper_series, color='k', alpha=.15)\n",
    "    plt.title('Forecast vs Actuals')\n",
    "    plt.legend(loc='upper left', fontsize=8);"
   ]
  },
  {
   "cell_type": "code",
   "execution_count": null,
   "id": "988863f7",
   "metadata": {},
   "outputs": [],
   "source": []
  },
  {
   "cell_type": "code",
   "execution_count": null,
   "id": "20acaafa",
   "metadata": {},
   "outputs": [],
   "source": [
    "endog_test = pd.DataFrame(endog_test)\n",
    "endog_test.index = endog_test.index +1500"
   ]
  },
  {
   "cell_type": "code",
   "execution_count": 49,
   "id": "647ae393",
   "metadata": {},
   "outputs": [
    {
     "ename": "ValueError",
     "evalue": "Length of values (100) does not match length of index (418)",
     "output_type": "error",
     "traceback": [
      "\u001b[0;31m---------------------------------------------------------------------------\u001b[0m",
      "\u001b[0;31mValueError\u001b[0m                                Traceback (most recent call last)",
      "Cell \u001b[0;32mIn [49], line 1\u001b[0m\n\u001b[0;32m----> 1\u001b[0m forecast_recons \u001b[38;5;241m=\u001b[39m \u001b[43mpd\u001b[49m\u001b[38;5;241;43m.\u001b[39;49m\u001b[43mSeries\u001b[49m\u001b[43m(\u001b[49m\u001b[43mforecast\u001b[49m\u001b[43m,\u001b[49m\u001b[43m \u001b[49m\u001b[43mindex\u001b[49m\u001b[38;5;241;43m=\u001b[39;49m\u001b[43mendog_test\u001b[49m\u001b[38;5;241;43m.\u001b[39;49m\u001b[43mindex\u001b[49m\u001b[43m)\u001b[49m\n\u001b[1;32m      3\u001b[0m plot_forecast(forecast_recons,endog_train, endog_test, wind_df_long[\u001b[38;5;124m\"\u001b[39m\u001b[38;5;124mwindspeed\u001b[39m\u001b[38;5;124m\"\u001b[39m])\n",
      "File \u001b[0;32m~/.pyenv/versions/3.8.13/envs/lewagon/lib/python3.8/site-packages/pandas/core/series.py:442\u001b[0m, in \u001b[0;36mSeries.__init__\u001b[0;34m(self, data, index, dtype, name, copy, fastpath)\u001b[0m\n\u001b[1;32m    440\u001b[0m     index \u001b[38;5;241m=\u001b[39m default_index(\u001b[38;5;28mlen\u001b[39m(data))\n\u001b[1;32m    441\u001b[0m \u001b[38;5;28;01melif\u001b[39;00m is_list_like(data):\n\u001b[0;32m--> 442\u001b[0m     \u001b[43mcom\u001b[49m\u001b[38;5;241;43m.\u001b[39;49m\u001b[43mrequire_length_match\u001b[49m\u001b[43m(\u001b[49m\u001b[43mdata\u001b[49m\u001b[43m,\u001b[49m\u001b[43m \u001b[49m\u001b[43mindex\u001b[49m\u001b[43m)\u001b[49m\n\u001b[1;32m    444\u001b[0m \u001b[38;5;66;03m# create/copy the manager\u001b[39;00m\n\u001b[1;32m    445\u001b[0m \u001b[38;5;28;01mif\u001b[39;00m \u001b[38;5;28misinstance\u001b[39m(data, (SingleBlockManager, SingleArrayManager)):\n",
      "File \u001b[0;32m~/.pyenv/versions/3.8.13/envs/lewagon/lib/python3.8/site-packages/pandas/core/common.py:557\u001b[0m, in \u001b[0;36mrequire_length_match\u001b[0;34m(data, index)\u001b[0m\n\u001b[1;32m    553\u001b[0m \u001b[38;5;124;03m\"\"\"\u001b[39;00m\n\u001b[1;32m    554\u001b[0m \u001b[38;5;124;03mCheck the length of data matches the length of the index.\u001b[39;00m\n\u001b[1;32m    555\u001b[0m \u001b[38;5;124;03m\"\"\"\u001b[39;00m\n\u001b[1;32m    556\u001b[0m \u001b[38;5;28;01mif\u001b[39;00m \u001b[38;5;28mlen\u001b[39m(data) \u001b[38;5;241m!=\u001b[39m \u001b[38;5;28mlen\u001b[39m(index):\n\u001b[0;32m--> 557\u001b[0m     \u001b[38;5;28;01mraise\u001b[39;00m \u001b[38;5;167;01mValueError\u001b[39;00m(\n\u001b[1;32m    558\u001b[0m         \u001b[38;5;124m\"\u001b[39m\u001b[38;5;124mLength of values \u001b[39m\u001b[38;5;124m\"\u001b[39m\n\u001b[1;32m    559\u001b[0m         \u001b[38;5;124mf\u001b[39m\u001b[38;5;124m\"\u001b[39m\u001b[38;5;124m(\u001b[39m\u001b[38;5;132;01m{\u001b[39;00m\u001b[38;5;28mlen\u001b[39m(data)\u001b[38;5;132;01m}\u001b[39;00m\u001b[38;5;124m) \u001b[39m\u001b[38;5;124m\"\u001b[39m\n\u001b[1;32m    560\u001b[0m         \u001b[38;5;124m\"\u001b[39m\u001b[38;5;124mdoes not match length of index \u001b[39m\u001b[38;5;124m\"\u001b[39m\n\u001b[1;32m    561\u001b[0m         \u001b[38;5;124mf\u001b[39m\u001b[38;5;124m\"\u001b[39m\u001b[38;5;124m(\u001b[39m\u001b[38;5;132;01m{\u001b[39;00m\u001b[38;5;28mlen\u001b[39m(index)\u001b[38;5;132;01m}\u001b[39;00m\u001b[38;5;124m)\u001b[39m\u001b[38;5;124m\"\u001b[39m\n\u001b[1;32m    562\u001b[0m     )\n",
      "\u001b[0;31mValueError\u001b[0m: Length of values (100) does not match length of index (418)"
     ]
    }
   ],
   "source": [
    "forecast_recons = pd.Series(forecast, index=endog_test.index[])\n",
    "\n",
    "plot_forecast(forecast_recons,endog_train, endog_test, wind_df_long[\"windspeed\"])"
   ]
  },
  {
   "cell_type": "code",
   "execution_count": null,
   "id": "260f9743",
   "metadata": {},
   "outputs": [],
   "source": []
  }
 ],
 "metadata": {
  "kernelspec": {
   "display_name": "Python 3 (ipykernel)",
   "language": "python",
   "name": "python3"
  },
  "language_info": {
   "codemirror_mode": {
    "name": "ipython",
    "version": 3
   },
   "file_extension": ".py",
   "mimetype": "text/x-python",
   "name": "python",
   "nbconvert_exporter": "python",
   "pygments_lexer": "ipython3",
   "version": "3.8.13"
  },
  "toc": {
   "base_numbering": 1,
   "nav_menu": {},
   "number_sections": true,
   "sideBar": true,
   "skip_h1_title": false,
   "title_cell": "Table of Contents",
   "title_sidebar": "Contents",
   "toc_cell": false,
   "toc_position": {},
   "toc_section_display": true,
   "toc_window_display": false
  }
 },
 "nbformat": 4,
 "nbformat_minor": 5
}
