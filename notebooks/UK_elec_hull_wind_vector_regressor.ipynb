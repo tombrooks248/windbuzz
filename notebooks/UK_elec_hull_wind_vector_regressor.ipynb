{
 "cells": [
  {
   "cell_type": "code",
   "execution_count": 1,
   "id": "9b766b7b",
   "metadata": {},
   "outputs": [],
   "source": [
    "import numpy as np\n",
    "import pandas as pd\n",
    "from sklearn.svm import SVC\n",
    "from sklearn.preprocessing import StandardScaler\n",
    "from sklearn.preprocessing import MinMaxScaler\n",
    "from sklearn.datasets import make_classification\n",
    "from sklearn.model_selection import train_test_split\n",
    "from sklearn.pipeline import Pipeline\n",
    "from sklearn.pipeline import make_pipeline\n",
    "from sklearn.preprocessing import OneHotEncoder\n",
    "from sklearn.impute import SimpleImputer, KNNImputer\n",
    "\n",
    "from statsmodels.tsa.statespace.sarimax import SARIMAX\n",
    "from statsmodels.tsa.api import VAR\n",
    "import pmdarima as pm"
   ]
  },
  {
   "cell_type": "code",
   "execution_count": 2,
   "id": "2410d4b4",
   "metadata": {},
   "outputs": [],
   "source": [
    "import seaborn as sns\n",
    "import matplotlib.pyplot as plt"
   ]
  },
  {
   "cell_type": "code",
   "execution_count": 3,
   "id": "e0f04d41",
   "metadata": {},
   "outputs": [],
   "source": [
    "df = pd.read_csv(\"../data/historic_demand_2009_2023.csv\")"
   ]
  },
  {
   "cell_type": "code",
   "execution_count": 4,
   "id": "fd876d9e",
   "metadata": {},
   "outputs": [],
   "source": [
    "elec_df = df[192_816: 194_788]"
   ]
  },
  {
   "cell_type": "code",
   "execution_count": 5,
   "id": "15d22b49",
   "metadata": {},
   "outputs": [],
   "source": [
    "elec_df = elec_df[[\"settlement_date\", \"embedded_wind_generation\"]]"
   ]
  },
  {
   "cell_type": "code",
   "execution_count": 6,
   "id": "ad319038",
   "metadata": {},
   "outputs": [
    {
     "data": {
      "text/html": [
       "<div>\n",
       "<style scoped>\n",
       "    .dataframe tbody tr th:only-of-type {\n",
       "        vertical-align: middle;\n",
       "    }\n",
       "\n",
       "    .dataframe tbody tr th {\n",
       "        vertical-align: top;\n",
       "    }\n",
       "\n",
       "    .dataframe thead th {\n",
       "        text-align: right;\n",
       "    }\n",
       "</style>\n",
       "<table border=\"1\" class=\"dataframe\">\n",
       "  <thead>\n",
       "    <tr style=\"text-align: right;\">\n",
       "      <th></th>\n",
       "      <th>settlement_date</th>\n",
       "      <th>embedded_wind_generation</th>\n",
       "    </tr>\n",
       "  </thead>\n",
       "  <tbody>\n",
       "    <tr>\n",
       "      <th>192816</th>\n",
       "      <td>2020-01-01</td>\n",
       "      <td>1244</td>\n",
       "    </tr>\n",
       "    <tr>\n",
       "      <th>192817</th>\n",
       "      <td>2020-01-01</td>\n",
       "      <td>1188</td>\n",
       "    </tr>\n",
       "    <tr>\n",
       "      <th>192818</th>\n",
       "      <td>2020-01-01</td>\n",
       "      <td>1156</td>\n",
       "    </tr>\n",
       "    <tr>\n",
       "      <th>192819</th>\n",
       "      <td>2020-01-01</td>\n",
       "      <td>1125</td>\n",
       "    </tr>\n",
       "    <tr>\n",
       "      <th>192820</th>\n",
       "      <td>2020-01-01</td>\n",
       "      <td>1106</td>\n",
       "    </tr>\n",
       "  </tbody>\n",
       "</table>\n",
       "</div>"
      ],
      "text/plain": [
       "       settlement_date  embedded_wind_generation\n",
       "192816      2020-01-01                      1244\n",
       "192817      2020-01-01                      1188\n",
       "192818      2020-01-01                      1156\n",
       "192819      2020-01-01                      1125\n",
       "192820      2020-01-01                      1106"
      ]
     },
     "execution_count": 6,
     "metadata": {},
     "output_type": "execute_result"
    }
   ],
   "source": [
    "elec_df.head()"
   ]
  },
  {
   "cell_type": "code",
   "execution_count": 7,
   "id": "362b738f",
   "metadata": {},
   "outputs": [
    {
     "data": {
      "text/plain": [
       "979    53.6\n",
       "980    49.7\n",
       "981    57.8\n",
       "982    65.0\n",
       "983    78.4\n",
       "Name: windgust, dtype: float64"
      ]
     },
     "execution_count": 7,
     "metadata": {},
     "output_type": "execute_result"
    }
   ],
   "source": [
    "wind_df = pd.read_csv(\"../data/Hull_2020-01-01_to_2020-02-10.csv\")\n",
    "wind_df[\"windgust\"].tail()\n"
   ]
  },
  {
   "cell_type": "code",
   "execution_count": 8,
   "id": "8345553b",
   "metadata": {},
   "outputs": [],
   "source": [
    "wind_df = wind_df[[\"datetime\",\"windgust\", \"windspeed\"]]"
   ]
  },
  {
   "cell_type": "code",
   "execution_count": null,
   "id": "afcf920b",
   "metadata": {},
   "outputs": [],
   "source": []
  },
  {
   "cell_type": "code",
   "execution_count": 9,
   "id": "322f6b2d",
   "metadata": {},
   "outputs": [],
   "source": [
    "wind_df['windgust'] = wind_df['windgust'].fillna(0)"
   ]
  },
  {
   "cell_type": "code",
   "execution_count": 10,
   "id": "a0298d44",
   "metadata": {},
   "outputs": [
    {
     "data": {
      "text/html": [
       "<div>\n",
       "<style scoped>\n",
       "    .dataframe tbody tr th:only-of-type {\n",
       "        vertical-align: middle;\n",
       "    }\n",
       "\n",
       "    .dataframe tbody tr th {\n",
       "        vertical-align: top;\n",
       "    }\n",
       "\n",
       "    .dataframe thead th {\n",
       "        text-align: right;\n",
       "    }\n",
       "</style>\n",
       "<table border=\"1\" class=\"dataframe\">\n",
       "  <thead>\n",
       "    <tr style=\"text-align: right;\">\n",
       "      <th></th>\n",
       "      <th>datetime</th>\n",
       "      <th>windgust</th>\n",
       "      <th>windspeed</th>\n",
       "    </tr>\n",
       "  </thead>\n",
       "  <tbody>\n",
       "    <tr>\n",
       "      <th>0</th>\n",
       "      <td>2020-01-01T00:00:00</td>\n",
       "      <td>0.0</td>\n",
       "      <td>1.7</td>\n",
       "    </tr>\n",
       "    <tr>\n",
       "      <th>1</th>\n",
       "      <td>2020-01-01T01:00:00</td>\n",
       "      <td>0.0</td>\n",
       "      <td>4.1</td>\n",
       "    </tr>\n",
       "    <tr>\n",
       "      <th>2</th>\n",
       "      <td>2020-01-01T02:00:00</td>\n",
       "      <td>0.0</td>\n",
       "      <td>4.0</td>\n",
       "    </tr>\n",
       "    <tr>\n",
       "      <th>3</th>\n",
       "      <td>2020-01-01T03:00:00</td>\n",
       "      <td>0.0</td>\n",
       "      <td>4.3</td>\n",
       "    </tr>\n",
       "    <tr>\n",
       "      <th>4</th>\n",
       "      <td>2020-01-01T04:00:00</td>\n",
       "      <td>0.0</td>\n",
       "      <td>4.3</td>\n",
       "    </tr>\n",
       "  </tbody>\n",
       "</table>\n",
       "</div>"
      ],
      "text/plain": [
       "              datetime  windgust  windspeed\n",
       "0  2020-01-01T00:00:00       0.0        1.7\n",
       "1  2020-01-01T01:00:00       0.0        4.1\n",
       "2  2020-01-01T02:00:00       0.0        4.0\n",
       "3  2020-01-01T03:00:00       0.0        4.3\n",
       "4  2020-01-01T04:00:00       0.0        4.3"
      ]
     },
     "execution_count": 10,
     "metadata": {},
     "output_type": "execute_result"
    }
   ],
   "source": [
    "wind_df.head()"
   ]
  },
  {
   "cell_type": "code",
   "execution_count": 11,
   "id": "dfcb58ed",
   "metadata": {},
   "outputs": [
    {
     "data": {
      "text/html": [
       "<div>\n",
       "<style scoped>\n",
       "    .dataframe tbody tr th:only-of-type {\n",
       "        vertical-align: middle;\n",
       "    }\n",
       "\n",
       "    .dataframe tbody tr th {\n",
       "        vertical-align: top;\n",
       "    }\n",
       "\n",
       "    .dataframe thead th {\n",
       "        text-align: right;\n",
       "    }\n",
       "</style>\n",
       "<table border=\"1\" class=\"dataframe\">\n",
       "  <thead>\n",
       "    <tr style=\"text-align: right;\">\n",
       "      <th></th>\n",
       "      <th>datetime</th>\n",
       "      <th>windgust</th>\n",
       "      <th>windspeed</th>\n",
       "    </tr>\n",
       "  </thead>\n",
       "  <tbody>\n",
       "    <tr>\n",
       "      <th>0</th>\n",
       "      <td>2020-01-01T00:00:00</td>\n",
       "      <td>0.0</td>\n",
       "      <td>1.7</td>\n",
       "    </tr>\n",
       "    <tr>\n",
       "      <th>1</th>\n",
       "      <td>2020-01-01T00:00:00</td>\n",
       "      <td>0.0</td>\n",
       "      <td>1.7</td>\n",
       "    </tr>\n",
       "    <tr>\n",
       "      <th>2</th>\n",
       "      <td>2020-01-01T01:00:00</td>\n",
       "      <td>0.0</td>\n",
       "      <td>4.1</td>\n",
       "    </tr>\n",
       "    <tr>\n",
       "      <th>3</th>\n",
       "      <td>2020-01-01T01:00:00</td>\n",
       "      <td>0.0</td>\n",
       "      <td>4.1</td>\n",
       "    </tr>\n",
       "    <tr>\n",
       "      <th>4</th>\n",
       "      <td>2020-01-01T02:00:00</td>\n",
       "      <td>0.0</td>\n",
       "      <td>4.0</td>\n",
       "    </tr>\n",
       "  </tbody>\n",
       "</table>\n",
       "</div>"
      ],
      "text/plain": [
       "              datetime windgust windspeed\n",
       "0  2020-01-01T00:00:00      0.0       1.7\n",
       "1  2020-01-01T00:00:00      0.0       1.7\n",
       "2  2020-01-01T01:00:00      0.0       4.1\n",
       "3  2020-01-01T01:00:00      0.0       4.1\n",
       "4  2020-01-01T02:00:00      0.0       4.0"
      ]
     },
     "execution_count": 11,
     "metadata": {},
     "output_type": "execute_result"
    }
   ],
   "source": [
    "wind_df_long = pd.DataFrame(np.repeat(wind_df.values, 2, axis=0))\n",
    "wind_df_long.columns = wind_df.columns\n",
    "wind_df_long.head()"
   ]
  },
  {
   "cell_type": "code",
   "execution_count": 12,
   "id": "8a6b8490",
   "metadata": {},
   "outputs": [],
   "source": [
    "wind_df_long[\"windspeed\"] = wind_df_long[\"windspeed\"]*120"
   ]
  },
  {
   "cell_type": "code",
   "execution_count": 13,
   "id": "5120d9fa",
   "metadata": {},
   "outputs": [
    {
     "data": {
      "text/html": [
       "<div>\n",
       "<style scoped>\n",
       "    .dataframe tbody tr th:only-of-type {\n",
       "        vertical-align: middle;\n",
       "    }\n",
       "\n",
       "    .dataframe tbody tr th {\n",
       "        vertical-align: top;\n",
       "    }\n",
       "\n",
       "    .dataframe thead th {\n",
       "        text-align: right;\n",
       "    }\n",
       "</style>\n",
       "<table border=\"1\" class=\"dataframe\">\n",
       "  <thead>\n",
       "    <tr style=\"text-align: right;\">\n",
       "      <th></th>\n",
       "      <th>datetime</th>\n",
       "      <th>windgust</th>\n",
       "      <th>windspeed</th>\n",
       "    </tr>\n",
       "  </thead>\n",
       "  <tbody>\n",
       "    <tr>\n",
       "      <th>0</th>\n",
       "      <td>2020-01-01T00:00:00</td>\n",
       "      <td>0.0</td>\n",
       "      <td>204.0</td>\n",
       "    </tr>\n",
       "    <tr>\n",
       "      <th>1</th>\n",
       "      <td>2020-01-01T00:00:00</td>\n",
       "      <td>0.0</td>\n",
       "      <td>204.0</td>\n",
       "    </tr>\n",
       "    <tr>\n",
       "      <th>2</th>\n",
       "      <td>2020-01-01T01:00:00</td>\n",
       "      <td>0.0</td>\n",
       "      <td>492.0</td>\n",
       "    </tr>\n",
       "    <tr>\n",
       "      <th>3</th>\n",
       "      <td>2020-01-01T01:00:00</td>\n",
       "      <td>0.0</td>\n",
       "      <td>492.0</td>\n",
       "    </tr>\n",
       "    <tr>\n",
       "      <th>4</th>\n",
       "      <td>2020-01-01T02:00:00</td>\n",
       "      <td>0.0</td>\n",
       "      <td>480.0</td>\n",
       "    </tr>\n",
       "  </tbody>\n",
       "</table>\n",
       "</div>"
      ],
      "text/plain": [
       "              datetime windgust windspeed\n",
       "0  2020-01-01T00:00:00      0.0     204.0\n",
       "1  2020-01-01T00:00:00      0.0     204.0\n",
       "2  2020-01-01T01:00:00      0.0     492.0\n",
       "3  2020-01-01T01:00:00      0.0     492.0\n",
       "4  2020-01-01T02:00:00      0.0     480.0"
      ]
     },
     "execution_count": 13,
     "metadata": {},
     "output_type": "execute_result"
    }
   ],
   "source": [
    "wind_df_long.head()"
   ]
  },
  {
   "cell_type": "code",
   "execution_count": 14,
   "id": "ddd3caf9",
   "metadata": {},
   "outputs": [],
   "source": [
    "test_begin_point = 1475"
   ]
  },
  {
   "cell_type": "code",
   "execution_count": 15,
   "id": "9d43bb6b",
   "metadata": {},
   "outputs": [
    {
     "data": {
      "text/plain": [
       "1475"
      ]
     },
     "execution_count": 15,
     "metadata": {},
     "output_type": "execute_result"
    }
   ],
   "source": [
    "endog_train = elec_df[\"embedded_wind_generation\"][:test_begin_point].to_numpy()\n",
    "endog_train = np.array(endog_train, dtype=float)\n",
    "len(endog_train)"
   ]
  },
  {
   "cell_type": "code",
   "execution_count": 16,
   "id": "34a6bf27",
   "metadata": {},
   "outputs": [
    {
     "data": {
      "text/plain": [
       "493"
      ]
     },
     "execution_count": 16,
     "metadata": {},
     "output_type": "execute_result"
    }
   ],
   "source": [
    "endog_test_df = elec_df[\"embedded_wind_generation\"][test_begin_point:-4]\n",
    "endog_test = np.array(endog_test_df, dtype=float)\n",
    "len(endog_test)"
   ]
  },
  {
   "cell_type": "code",
   "execution_count": 17,
   "id": "644b903d",
   "metadata": {},
   "outputs": [
    {
     "data": {
      "text/plain": [
       "1475"
      ]
     },
     "execution_count": 17,
     "metadata": {},
     "output_type": "execute_result"
    }
   ],
   "source": [
    "exog_train = wind_df_long[\"windspeed\"][:test_begin_point].to_numpy()\n",
    "exog_train = np.array(exog_train, dtype=float)\n",
    "exog_train = exog_train\n",
    "len(exog_train)"
   ]
  },
  {
   "cell_type": "code",
   "execution_count": 18,
   "id": "d83a2fda",
   "metadata": {},
   "outputs": [
    {
     "data": {
      "text/plain": [
       "493"
      ]
     },
     "execution_count": 18,
     "metadata": {},
     "output_type": "execute_result"
    }
   ],
   "source": [
    "exog_test = wind_df_long[\"windspeed\"][test_begin_point:].to_numpy()\n",
    "exog_test = np.array(exog_test, dtype=float)\n",
    "exog_test = exog_test\n",
    "len(exog_test)"
   ]
  },
  {
   "cell_type": "code",
   "execution_count": 19,
   "id": "4943882b",
   "metadata": {},
   "outputs": [
    {
     "data": {
      "text/plain": [
       "0       2020-01-01T00:00:00\n",
       "1       2020-01-01T00:00:00\n",
       "2       2020-01-01T01:00:00\n",
       "3       2020-01-01T01:00:00\n",
       "4       2020-01-01T02:00:00\n",
       "               ...         \n",
       "1963    2020-02-10T21:00:00\n",
       "1964    2020-02-10T22:00:00\n",
       "1965    2020-02-10T22:00:00\n",
       "1966    2020-02-10T23:00:00\n",
       "1967    2020-02-10T23:00:00\n",
       "Name: datetime, Length: 1968, dtype: object"
      ]
     },
     "execution_count": 19,
     "metadata": {},
     "output_type": "execute_result"
    }
   ],
   "source": [
    "wind_df_long[\"datetime\"]"
   ]
  },
  {
   "cell_type": "code",
   "execution_count": 20,
   "id": "cfa582c9",
   "metadata": {},
   "outputs": [],
   "source": [
    "endog_train = pd.DataFrame(endog_train.astype(float),columns=[\"endog\"])"
   ]
  },
  {
   "cell_type": "code",
   "execution_count": 21,
   "id": "620b5c59",
   "metadata": {},
   "outputs": [],
   "source": [
    "exog_train= pd.DataFrame(exog_train.astype(float),columns=[\"exog\"])"
   ]
  },
  {
   "cell_type": "code",
   "execution_count": 43,
   "id": "0fed4dcb",
   "metadata": {},
   "outputs": [],
   "source": [
    "datetime = pd.to_datetime(wind_df_long[\"datetime\"][:test_begin_point], format = '%Y-%m-%dT%H:%M:%S')"
   ]
  },
  {
   "cell_type": "code",
   "execution_count": null,
   "id": "fda0e5cc",
   "metadata": {},
   "outputs": [],
   "source": []
  },
  {
   "cell_type": "code",
   "execution_count": 34,
   "id": "8c34630a",
   "metadata": {},
   "outputs": [
    {
     "data": {
      "text/html": [
       "<div>\n",
       "<style scoped>\n",
       "    .dataframe tbody tr th:only-of-type {\n",
       "        vertical-align: middle;\n",
       "    }\n",
       "\n",
       "    .dataframe tbody tr th {\n",
       "        vertical-align: top;\n",
       "    }\n",
       "\n",
       "    .dataframe thead th {\n",
       "        text-align: right;\n",
       "    }\n",
       "</style>\n",
       "<table border=\"1\" class=\"dataframe\">\n",
       "  <thead>\n",
       "    <tr style=\"text-align: right;\">\n",
       "      <th></th>\n",
       "      <th>endog</th>\n",
       "      <th>exog</th>\n",
       "    </tr>\n",
       "    <tr>\n",
       "      <th>datetime</th>\n",
       "      <th></th>\n",
       "      <th></th>\n",
       "    </tr>\n",
       "  </thead>\n",
       "  <tbody>\n",
       "    <tr>\n",
       "      <th>2020-01-01 00:00:00</th>\n",
       "      <td>1244.0</td>\n",
       "      <td>204.0</td>\n",
       "    </tr>\n",
       "    <tr>\n",
       "      <th>2020-01-01 00:00:00</th>\n",
       "      <td>1188.0</td>\n",
       "      <td>204.0</td>\n",
       "    </tr>\n",
       "    <tr>\n",
       "      <th>2020-01-01 01:00:00</th>\n",
       "      <td>1156.0</td>\n",
       "      <td>492.0</td>\n",
       "    </tr>\n",
       "    <tr>\n",
       "      <th>2020-01-01 01:00:00</th>\n",
       "      <td>1125.0</td>\n",
       "      <td>492.0</td>\n",
       "    </tr>\n",
       "    <tr>\n",
       "      <th>2020-01-01 02:00:00</th>\n",
       "      <td>1106.0</td>\n",
       "      <td>480.0</td>\n",
       "    </tr>\n",
       "  </tbody>\n",
       "</table>\n",
       "</div>"
      ],
      "text/plain": [
       "                      endog   exog\n",
       "datetime                          \n",
       "2020-01-01 00:00:00  1244.0  204.0\n",
       "2020-01-01 00:00:00  1188.0  204.0\n",
       "2020-01-01 01:00:00  1156.0  492.0\n",
       "2020-01-01 01:00:00  1125.0  492.0\n",
       "2020-01-01 02:00:00  1106.0  480.0"
      ]
     },
     "execution_count": 34,
     "metadata": {},
     "output_type": "execute_result"
    }
   ],
   "source": [
    "data = pd.concat([datetime,endog_train, exog_train], axis=1)\n",
    "data.set_index([\"datetime\"], inplace = True)\n",
    "data.head()"
   ]
  },
  {
   "cell_type": "code",
   "execution_count": null,
   "id": "0b7619f8",
   "metadata": {},
   "outputs": [],
   "source": []
  },
  {
   "cell_type": "code",
   "execution_count": 24,
   "id": "c4e683e2",
   "metadata": {},
   "outputs": [],
   "source": [
    "# import pmdarima as pm\n",
    "# sarimax = pm.auto_arima(elec_df[\"embedded_wind_generation\"], exogenous=wind_df_long[\"windspeed\"],\n",
    "#                            start_p=0, start_q=0,\n",
    "#                            test='adf',\n",
    "#                            max_p=2, max_q=2, m=12,\n",
    "#                            start_P=0, seasonal=True,\n",
    "#                            d=None, D=1, trace=True,\n",
    "#                            suppress_warnings=True, \n",
    "#                            stepwise=True)"
   ]
  },
  {
   "cell_type": "code",
   "execution_count": 25,
   "id": "583aa406",
   "metadata": {},
   "outputs": [
    {
     "data": {
      "text/plain": [
       "dtype('float64')"
      ]
     },
     "execution_count": 25,
     "metadata": {},
     "output_type": "execute_result"
    }
   ],
   "source": [
    "data.exog.dtype"
   ]
  },
  {
   "cell_type": "code",
   "execution_count": 26,
   "id": "a0b79514",
   "metadata": {},
   "outputs": [
    {
     "name": "stdout",
     "output_type": "stream",
     "text": [
      "datetime    datetime64[ns]\n",
      "endog              float64\n",
      "exog               float64\n",
      "dtype: object\n"
     ]
    }
   ],
   "source": [
    "print(data.dtypes)"
   ]
  },
  {
   "cell_type": "code",
   "execution_count": 27,
   "id": "41a1390e",
   "metadata": {},
   "outputs": [
    {
     "name": "stdout",
     "output_type": "stream",
     "text": [
      "0\n"
     ]
    }
   ],
   "source": [
    "print(data.exog.apply(lambda x: str(x).isnumeric()).sum())"
   ]
  },
  {
   "cell_type": "code",
   "execution_count": 40,
   "id": "7c36b145",
   "metadata": {},
   "outputs": [
    {
     "name": "stderr",
     "output_type": "stream",
     "text": [
      "/Users/DocWeaver/.pyenv/versions/3.8.13/envs/lewagon/lib/python3.8/site-packages/statsmodels/tsa/base/tsa_model.py:471: ValueWarning: A date index has been provided, but it has no associated frequency information and so will be ignored when e.g. forecasting.\n",
      "  self._init_dates(dates, freq)\n"
     ]
    }
   ],
   "source": [
    "model = VAR(data)\n",
    "# Determine the order of the VAR model using the Akaike information criterion (AIC)\n"
   ]
  },
  {
   "cell_type": "code",
   "execution_count": 41,
   "id": "57dcde49",
   "metadata": {},
   "outputs": [
    {
     "name": "stdout",
     "output_type": "stream",
     "text": [
      "Lag Order = 1\n",
      "AIC :  21.69357085001255\n",
      "BIC :  21.71512743782564\n",
      "FPE :  2638749219.264986\n",
      "HQIC:  21.701608488608034 \n",
      "\n",
      "Lag Order = 2\n",
      "AIC :  21.59314274034287\n",
      "BIC :  21.629090170189865\n",
      "FPE :  2386617175.4476566\n",
      "HQIC:  21.606546636005117 \n",
      "\n",
      "Lag Order = 3\n",
      "AIC :  21.56499630086488\n",
      "BIC :  21.615350432787466\n",
      "FPE :  2320379169.1608458\n",
      "HQIC:  21.58377273219311 \n",
      "\n",
      "Lag Order = 4\n",
      "AIC :  21.541000323309472\n",
      "BIC :  21.6057770459273\n",
      "FPE :  2265362503.3115773\n",
      "HQIC:  21.56515558053302 \n",
      "\n",
      "Lag Order = 5\n",
      "AIC :  21.510990863297877\n",
      "BIC :  21.590206093879512\n",
      "FPE :  2198390683.2147985\n",
      "HQIC:  21.540531248305538 \n",
      "\n",
      "Lag Order = 6\n",
      "AIC :  21.492382428706875\n",
      "BIC :  21.586052113240925\n",
      "FPE :  2157861135.085249\n",
      "HQIC:  21.52731425507634 \n",
      "\n",
      "Lag Order = 7\n",
      "AIC :  21.482264401139563\n",
      "BIC :  21.59040451440607\n",
      "FPE :  2136138984.69779\n",
      "HQIC:  21.522593994166982 \n",
      "\n",
      "Lag Order = 8\n",
      "AIC :  21.48142114756622\n",
      "BIC :  21.604047693208255\n",
      "FPE :  2134339829.8458881\n",
      "HQIC:  21.527154844295808 \n",
      "\n",
      "Lag Order = 9\n",
      "AIC :  21.482271996356097\n",
      "BIC :  21.619401006951577\n",
      "FPE :  2136158371.6322925\n",
      "HQIC:  21.53341614560988 \n",
      "\n"
     ]
    }
   ],
   "source": [
    "for i in [1,2,3,4,5,6,7,8,9]:\n",
    "    result = model.fit(i)\n",
    "    print('Lag Order =', i)\n",
    "    print('AIC : ', result.aic)\n",
    "    print('BIC : ', result.bic)\n",
    "    print('FPE : ', result.fpe)\n",
    "    print('HQIC: ', result.hqic, '\\n')"
   ]
  },
  {
   "cell_type": "code",
   "execution_count": 48,
   "id": "e62fa6fd",
   "metadata": {},
   "outputs": [],
   "source": [
    "mod = model.fit(5)"
   ]
  },
  {
   "cell_type": "code",
   "execution_count": null,
   "id": "53370d11",
   "metadata": {},
   "outputs": [],
   "source": []
  },
  {
   "cell_type": "code",
   "execution_count": 49,
   "id": "8a23d217",
   "metadata": {},
   "outputs": [
    {
     "name": "stdout",
     "output_type": "stream",
     "text": [
      "  Summary of Regression Results   \n",
      "==================================\n",
      "Model:                         VAR\n",
      "Method:                        OLS\n",
      "Date:           Tue, 21, Mar, 2023\n",
      "Time:                     23:11:15\n",
      "--------------------------------------------------------------------\n",
      "No. of Equations:         2.00000    BIC:                    21.5902\n",
      "Nobs:                     1470.00    HQIC:                   21.5405\n",
      "Log likelihood:          -19960.3    FPE:                2.19839e+09\n",
      "AIC:                      21.5110    Det(Omega_mle):     2.16586e+09\n",
      "--------------------------------------------------------------------\n",
      "Results for equation endog\n",
      "===========================================================================\n",
      "              coefficient       std. error           t-stat            prob\n",
      "---------------------------------------------------------------------------\n",
      "const           45.484053        10.160158            4.477           0.000\n",
      "L1.endog         0.669062         0.025795           25.938           0.000\n",
      "L1.exog          0.012172         0.012382            0.983           0.326\n",
      "L2.endog         0.378324         0.031209           12.122           0.000\n",
      "L2.exog         -0.002242         0.016616           -0.135           0.893\n",
      "L3.endog         0.155066         0.032503            4.771           0.000\n",
      "L3.exog         -0.016401         0.016735           -0.980           0.327\n",
      "L4.endog        -0.019465         0.031365           -0.621           0.535\n",
      "L4.exog         -0.022662         0.016719           -1.356           0.175\n",
      "L5.endog        -0.170205         0.026070           -6.529           0.000\n",
      "L5.exog         -0.008274         0.012352           -0.670           0.503\n",
      "===========================================================================\n",
      "\n",
      "Results for equation exog\n",
      "===========================================================================\n",
      "              coefficient       std. error           t-stat            prob\n",
      "---------------------------------------------------------------------------\n",
      "const           54.814403        21.416047            2.560           0.010\n",
      "L1.endog         0.155831         0.054371            2.866           0.004\n",
      "L1.exog          0.891996         0.026099           34.178           0.000\n",
      "L2.endog        -0.010038         0.065784           -0.153           0.879\n",
      "L2.exog         -0.203387         0.035023           -5.807           0.000\n",
      "L3.endog        -0.006345         0.068511           -0.093           0.926\n",
      "L3.exog          0.159510         0.035275            4.522           0.000\n",
      "L4.endog         0.085038         0.066113            1.286           0.198\n",
      "L4.exog          0.017736         0.035240            0.503           0.615\n",
      "L5.endog        -0.082429         0.054952           -1.500           0.134\n",
      "L5.exog         -0.067949         0.026036           -2.610           0.009\n",
      "===========================================================================\n",
      "\n",
      "Correlation matrix of residuals\n",
      "            endog      exog\n",
      "endog    1.000000 -0.018088\n",
      "exog    -0.018088  1.000000\n",
      "\n",
      "\n",
      "\n"
     ]
    }
   ],
   "source": [
    "print(mod.summary())"
   ]
  },
  {
   "cell_type": "code",
   "execution_count": 50,
   "id": "126c91dd",
   "metadata": {},
   "outputs": [
    {
     "ename": "AttributeError",
     "evalue": "'VARResults' object has no attribute 'get_forecast'",
     "output_type": "error",
     "traceback": [
      "\u001b[0;31m---------------------------------------------------------------------------\u001b[0m",
      "\u001b[0;31mAttributeError\u001b[0m                            Traceback (most recent call last)",
      "Cell \u001b[0;32mIn [50], line 3\u001b[0m\n\u001b[1;32m      1\u001b[0m \u001b[38;5;66;03m# Forecast\u001b[39;00m\n\u001b[1;32m      2\u001b[0m forecast_length \u001b[38;5;241m=\u001b[39m \u001b[38;5;241m100\u001b[39m\n\u001b[0;32m----> 3\u001b[0m results \u001b[38;5;241m=\u001b[39m \u001b[43mmod\u001b[49m\u001b[38;5;241;43m.\u001b[39;49m\u001b[43mget_forecast\u001b[49m(forecast_length, exog \u001b[38;5;241m=\u001b[39m exog_test[:forecast_length], alpha\u001b[38;5;241m=\u001b[39m\u001b[38;5;241m0.05\u001b[39m)\n\u001b[1;32m      4\u001b[0m forecast \u001b[38;5;241m=\u001b[39m results\u001b[38;5;241m.\u001b[39mpredicted_mean\n\u001b[1;32m      5\u001b[0m confidence_int \u001b[38;5;241m=\u001b[39m results\u001b[38;5;241m.\u001b[39mconf_int()\n",
      "File \u001b[0;32m~/.pyenv/versions/3.8.13/envs/lewagon/lib/python3.8/site-packages/statsmodels/base/wrapper.py:34\u001b[0m, in \u001b[0;36mResultsWrapper.__getattribute__\u001b[0;34m(self, attr)\u001b[0m\n\u001b[1;32m     31\u001b[0m \u001b[38;5;28;01mexcept\u001b[39;00m \u001b[38;5;167;01mAttributeError\u001b[39;00m:\n\u001b[1;32m     32\u001b[0m     \u001b[38;5;28;01mpass\u001b[39;00m\n\u001b[0;32m---> 34\u001b[0m obj \u001b[38;5;241m=\u001b[39m \u001b[38;5;28;43mgetattr\u001b[39;49m\u001b[43m(\u001b[49m\u001b[43mresults\u001b[49m\u001b[43m,\u001b[49m\u001b[43m \u001b[49m\u001b[43mattr\u001b[49m\u001b[43m)\u001b[49m\n\u001b[1;32m     35\u001b[0m data \u001b[38;5;241m=\u001b[39m results\u001b[38;5;241m.\u001b[39mmodel\u001b[38;5;241m.\u001b[39mdata\n\u001b[1;32m     36\u001b[0m how \u001b[38;5;241m=\u001b[39m \u001b[38;5;28mself\u001b[39m\u001b[38;5;241m.\u001b[39m_wrap_attrs\u001b[38;5;241m.\u001b[39mget(attr)\n",
      "\u001b[0;31mAttributeError\u001b[0m: 'VARResults' object has no attribute 'get_forecast'"
     ]
    }
   ],
   "source": [
    "# Forecast\n",
    "forecast_length = 100\n",
    "results = mod.get_forecast(forecast_length, exog = exog_test[:forecast_length], alpha=0.05)\n",
    "forecast = results.predicted_mean\n",
    "confidence_int = results.conf_int()"
   ]
  },
  {
   "cell_type": "code",
   "execution_count": null,
   "id": "bf2d5eba",
   "metadata": {},
   "outputs": [],
   "source": [
    "forecast"
   ]
  },
  {
   "cell_type": "code",
   "execution_count": null,
   "id": "9e891d32",
   "metadata": {},
   "outputs": [],
   "source": [
    "def plot_forecast(fc, train, test, windspeed, upper=None, lower=None):\n",
    "    is_confidence_int = isinstance(upper, np.ndarray) and isinstance(lower, np.ndarray)\n",
    "    # Prepare plot series\n",
    "    fc_series = pd.Series(fc, index=test.index)\n",
    "    wind_series = pd.Series(windspeed)\n",
    "    wind_series = wind_series\n",
    "    lower_series = pd.Series(upper, index=test.index) if is_confidence_int else None\n",
    "    upper_series = pd.Series(lower, index=test.index) if is_confidence_int else None\n",
    "\n",
    "    # Plot\n",
    "    plt.figure(figsize=(10,4), dpi=100)\n",
    "    plt.plot(train, label='training generation', color='black')\n",
    "    plt.plot(test, label='actual generation', color='black', ls='--')\n",
    "    plt.plot(fc_series, label='forecast generation', color='orange')\n",
    "    plt.plot(wind_series, label='wind speed in hull', color='blue')\n",
    "    plt.xlim(test_begin_point-200,test_begin_point+200)\n",
    "    if is_confidence_int:\n",
    "        plt.fill_between(lower_series.index, lower_series, upper_series, color='k', alpha=.15)\n",
    "    plt.title('Forecast vs Actuals')\n",
    "    plt.legend(loc='upper left', fontsize=8);"
   ]
  },
  {
   "cell_type": "code",
   "execution_count": null,
   "id": "5f0d072c",
   "metadata": {},
   "outputs": [],
   "source": []
  },
  {
   "cell_type": "code",
   "execution_count": null,
   "id": "81c12769",
   "metadata": {},
   "outputs": [],
   "source": [
    "endog_test = pd.DataFrame(endog_test)\n",
    "endog_test.index = endog_test.index + test_begin_point"
   ]
  },
  {
   "cell_type": "code",
   "execution_count": null,
   "id": "647ae393",
   "metadata": {},
   "outputs": [],
   "source": [
    "forecast_recons = pd.Series(forecast, index=endog_test.index[:forecast_length])\n",
    "\n",
    "plot_forecast(forecast_recons,endog_train, endog_test, wind_df_long[\"windspeed\"])"
   ]
  },
  {
   "cell_type": "code",
   "execution_count": null,
   "id": "260f9743",
   "metadata": {},
   "outputs": [],
   "source": []
  },
  {
   "cell_type": "code",
   "execution_count": null,
   "id": "3dda1bcc",
   "metadata": {},
   "outputs": [],
   "source": []
  }
 ],
 "metadata": {
  "kernelspec": {
   "display_name": "Python 3 (ipykernel)",
   "language": "python",
   "name": "python3"
  },
  "language_info": {
   "codemirror_mode": {
    "name": "ipython",
    "version": 3
   },
   "file_extension": ".py",
   "mimetype": "text/x-python",
   "name": "python",
   "nbconvert_exporter": "python",
   "pygments_lexer": "ipython3",
   "version": "3.8.13"
  },
  "toc": {
   "base_numbering": 1,
   "nav_menu": {},
   "number_sections": true,
   "sideBar": true,
   "skip_h1_title": false,
   "title_cell": "Table of Contents",
   "title_sidebar": "Contents",
   "toc_cell": false,
   "toc_position": {},
   "toc_section_display": true,
   "toc_window_display": false
  }
 },
 "nbformat": 4,
 "nbformat_minor": 5
}
