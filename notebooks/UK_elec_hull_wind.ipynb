{
 "cells": [
  {
   "cell_type": "code",
   "execution_count": 1,
   "id": "9b766b7b",
   "metadata": {},
   "outputs": [],
   "source": [
    "import numpy as np\n",
    "import pandas as pd\n",
    "from sklearn.svm import SVC\n",
    "from sklearn.preprocessing import StandardScaler\n",
    "from sklearn.preprocessing import MinMaxScaler\n",
    "from sklearn.datasets import make_classification\n",
    "from sklearn.model_selection import train_test_split\n",
    "from sklearn.pipeline import Pipeline\n",
    "from sklearn.pipeline import make_pipeline\n",
    "from sklearn.preprocessing import OneHotEncoder\n",
    "from sklearn.impute import SimpleImputer, KNNImputer\n",
    "\n",
    "from statsmodels.tsa.statespace.sarimax import SARIMAX\n",
    "import pmdarima as pm"
   ]
  },
  {
   "cell_type": "code",
   "execution_count": 2,
   "id": "2410d4b4",
   "metadata": {},
   "outputs": [],
   "source": [
    "import seaborn as sns\n",
    "import matplotlib.pyplot as plt"
   ]
  },
  {
   "cell_type": "code",
   "execution_count": 3,
   "id": "e0f04d41",
   "metadata": {},
   "outputs": [],
   "source": [
    "df = pd.read_csv(\"../data/historic_demand_2009_2023.csv\")"
   ]
  },
  {
   "cell_type": "code",
   "execution_count": 4,
   "id": "fd876d9e",
   "metadata": {},
   "outputs": [],
   "source": [
    "elec_df = df[192_816: 194_788]"
   ]
  },
  {
   "cell_type": "code",
   "execution_count": 5,
   "id": "15d22b49",
   "metadata": {},
   "outputs": [],
   "source": [
    "elec_df = elec_df[[\"settlement_date\", \"embedded_wind_generation\"]]"
   ]
  },
  {
   "cell_type": "code",
   "execution_count": 6,
   "id": "ad319038",
   "metadata": {},
   "outputs": [
    {
     "data": {
      "text/html": [
       "<div>\n",
       "<style scoped>\n",
       "    .dataframe tbody tr th:only-of-type {\n",
       "        vertical-align: middle;\n",
       "    }\n",
       "\n",
       "    .dataframe tbody tr th {\n",
       "        vertical-align: top;\n",
       "    }\n",
       "\n",
       "    .dataframe thead th {\n",
       "        text-align: right;\n",
       "    }\n",
       "</style>\n",
       "<table border=\"1\" class=\"dataframe\">\n",
       "  <thead>\n",
       "    <tr style=\"text-align: right;\">\n",
       "      <th></th>\n",
       "      <th>settlement_date</th>\n",
       "      <th>embedded_wind_generation</th>\n",
       "    </tr>\n",
       "  </thead>\n",
       "  <tbody>\n",
       "    <tr>\n",
       "      <th>192816</th>\n",
       "      <td>2020-01-01</td>\n",
       "      <td>1244</td>\n",
       "    </tr>\n",
       "    <tr>\n",
       "      <th>192817</th>\n",
       "      <td>2020-01-01</td>\n",
       "      <td>1188</td>\n",
       "    </tr>\n",
       "    <tr>\n",
       "      <th>192818</th>\n",
       "      <td>2020-01-01</td>\n",
       "      <td>1156</td>\n",
       "    </tr>\n",
       "    <tr>\n",
       "      <th>192819</th>\n",
       "      <td>2020-01-01</td>\n",
       "      <td>1125</td>\n",
       "    </tr>\n",
       "    <tr>\n",
       "      <th>192820</th>\n",
       "      <td>2020-01-01</td>\n",
       "      <td>1106</td>\n",
       "    </tr>\n",
       "  </tbody>\n",
       "</table>\n",
       "</div>"
      ],
      "text/plain": [
       "       settlement_date  embedded_wind_generation\n",
       "192816      2020-01-01                      1244\n",
       "192817      2020-01-01                      1188\n",
       "192818      2020-01-01                      1156\n",
       "192819      2020-01-01                      1125\n",
       "192820      2020-01-01                      1106"
      ]
     },
     "execution_count": 6,
     "metadata": {},
     "output_type": "execute_result"
    }
   ],
   "source": [
    "elec_df.head()"
   ]
  },
  {
   "cell_type": "code",
   "execution_count": 7,
   "id": "ea513651",
   "metadata": {},
   "outputs": [
    {
     "data": {
      "text/plain": [
       "979    53.6\n",
       "980    49.7\n",
       "981    57.8\n",
       "982    65.0\n",
       "983    78.4\n",
       "Name: windgust, dtype: float64"
      ]
     },
     "execution_count": 7,
     "metadata": {},
     "output_type": "execute_result"
    }
   ],
   "source": [
    "wind_df = pd.read_csv(\"../data/Hull_2020-01-01_to_2020-02-10.csv\")\n",
    "wind_df[\"windgust\"].tail()\n"
   ]
  },
  {
   "cell_type": "code",
   "execution_count": 8,
   "id": "c16d09c0",
   "metadata": {},
   "outputs": [],
   "source": [
    "wind_df = wind_df[[\"datetime\",\"windgust\", \"windspeed\"]]"
   ]
  },
  {
   "cell_type": "code",
   "execution_count": null,
   "id": "fcb3737b",
   "metadata": {},
   "outputs": [],
   "source": []
  },
  {
   "cell_type": "code",
   "execution_count": 9,
   "id": "a95ffba9",
   "metadata": {},
   "outputs": [],
   "source": [
    "wind_df['windgust'] = wind_df['windgust'].fillna(0)"
   ]
  },
  {
   "cell_type": "code",
   "execution_count": 10,
   "id": "b257e910",
   "metadata": {},
   "outputs": [
    {
     "data": {
      "text/html": [
       "<div>\n",
       "<style scoped>\n",
       "    .dataframe tbody tr th:only-of-type {\n",
       "        vertical-align: middle;\n",
       "    }\n",
       "\n",
       "    .dataframe tbody tr th {\n",
       "        vertical-align: top;\n",
       "    }\n",
       "\n",
       "    .dataframe thead th {\n",
       "        text-align: right;\n",
       "    }\n",
       "</style>\n",
       "<table border=\"1\" class=\"dataframe\">\n",
       "  <thead>\n",
       "    <tr style=\"text-align: right;\">\n",
       "      <th></th>\n",
       "      <th>datetime</th>\n",
       "      <th>windgust</th>\n",
       "      <th>windspeed</th>\n",
       "    </tr>\n",
       "  </thead>\n",
       "  <tbody>\n",
       "    <tr>\n",
       "      <th>0</th>\n",
       "      <td>2020-01-01T00:00:00</td>\n",
       "      <td>0.0</td>\n",
       "      <td>1.7</td>\n",
       "    </tr>\n",
       "    <tr>\n",
       "      <th>1</th>\n",
       "      <td>2020-01-01T01:00:00</td>\n",
       "      <td>0.0</td>\n",
       "      <td>4.1</td>\n",
       "    </tr>\n",
       "    <tr>\n",
       "      <th>2</th>\n",
       "      <td>2020-01-01T02:00:00</td>\n",
       "      <td>0.0</td>\n",
       "      <td>4.0</td>\n",
       "    </tr>\n",
       "    <tr>\n",
       "      <th>3</th>\n",
       "      <td>2020-01-01T03:00:00</td>\n",
       "      <td>0.0</td>\n",
       "      <td>4.3</td>\n",
       "    </tr>\n",
       "    <tr>\n",
       "      <th>4</th>\n",
       "      <td>2020-01-01T04:00:00</td>\n",
       "      <td>0.0</td>\n",
       "      <td>4.3</td>\n",
       "    </tr>\n",
       "  </tbody>\n",
       "</table>\n",
       "</div>"
      ],
      "text/plain": [
       "              datetime  windgust  windspeed\n",
       "0  2020-01-01T00:00:00       0.0        1.7\n",
       "1  2020-01-01T01:00:00       0.0        4.1\n",
       "2  2020-01-01T02:00:00       0.0        4.0\n",
       "3  2020-01-01T03:00:00       0.0        4.3\n",
       "4  2020-01-01T04:00:00       0.0        4.3"
      ]
     },
     "execution_count": 10,
     "metadata": {},
     "output_type": "execute_result"
    }
   ],
   "source": [
    "wind_df.head()"
   ]
  },
  {
   "cell_type": "code",
   "execution_count": 11,
   "id": "45ddce15",
   "metadata": {},
   "outputs": [
    {
     "data": {
      "text/html": [
       "<div>\n",
       "<style scoped>\n",
       "    .dataframe tbody tr th:only-of-type {\n",
       "        vertical-align: middle;\n",
       "    }\n",
       "\n",
       "    .dataframe tbody tr th {\n",
       "        vertical-align: top;\n",
       "    }\n",
       "\n",
       "    .dataframe thead th {\n",
       "        text-align: right;\n",
       "    }\n",
       "</style>\n",
       "<table border=\"1\" class=\"dataframe\">\n",
       "  <thead>\n",
       "    <tr style=\"text-align: right;\">\n",
       "      <th></th>\n",
       "      <th>datetime</th>\n",
       "      <th>windgust</th>\n",
       "      <th>windspeed</th>\n",
       "    </tr>\n",
       "  </thead>\n",
       "  <tbody>\n",
       "    <tr>\n",
       "      <th>0</th>\n",
       "      <td>2020-01-01T00:00:00</td>\n",
       "      <td>0.0</td>\n",
       "      <td>1.7</td>\n",
       "    </tr>\n",
       "    <tr>\n",
       "      <th>1</th>\n",
       "      <td>2020-01-01T00:00:00</td>\n",
       "      <td>0.0</td>\n",
       "      <td>1.7</td>\n",
       "    </tr>\n",
       "    <tr>\n",
       "      <th>2</th>\n",
       "      <td>2020-01-01T01:00:00</td>\n",
       "      <td>0.0</td>\n",
       "      <td>4.1</td>\n",
       "    </tr>\n",
       "    <tr>\n",
       "      <th>3</th>\n",
       "      <td>2020-01-01T01:00:00</td>\n",
       "      <td>0.0</td>\n",
       "      <td>4.1</td>\n",
       "    </tr>\n",
       "    <tr>\n",
       "      <th>4</th>\n",
       "      <td>2020-01-01T02:00:00</td>\n",
       "      <td>0.0</td>\n",
       "      <td>4.0</td>\n",
       "    </tr>\n",
       "  </tbody>\n",
       "</table>\n",
       "</div>"
      ],
      "text/plain": [
       "              datetime windgust windspeed\n",
       "0  2020-01-01T00:00:00      0.0       1.7\n",
       "1  2020-01-01T00:00:00      0.0       1.7\n",
       "2  2020-01-01T01:00:00      0.0       4.1\n",
       "3  2020-01-01T01:00:00      0.0       4.1\n",
       "4  2020-01-01T02:00:00      0.0       4.0"
      ]
     },
     "execution_count": 11,
     "metadata": {},
     "output_type": "execute_result"
    }
   ],
   "source": [
    "wind_df_long = pd.DataFrame(np.repeat(wind_df.values, 2, axis=0))\n",
    "wind_df_long.columns = wind_df.columns\n",
    "wind_df_long.head()"
   ]
  },
  {
   "cell_type": "code",
   "execution_count": 12,
   "id": "d58077d3",
   "metadata": {},
   "outputs": [],
   "source": [
    "wind_df_long[\"windspeed\"] = wind_df_long[\"windspeed\"]*120"
   ]
  },
  {
   "cell_type": "code",
   "execution_count": 13,
   "id": "b5347abb",
   "metadata": {},
   "outputs": [
    {
     "data": {
      "text/html": [
       "<div>\n",
       "<style scoped>\n",
       "    .dataframe tbody tr th:only-of-type {\n",
       "        vertical-align: middle;\n",
       "    }\n",
       "\n",
       "    .dataframe tbody tr th {\n",
       "        vertical-align: top;\n",
       "    }\n",
       "\n",
       "    .dataframe thead th {\n",
       "        text-align: right;\n",
       "    }\n",
       "</style>\n",
       "<table border=\"1\" class=\"dataframe\">\n",
       "  <thead>\n",
       "    <tr style=\"text-align: right;\">\n",
       "      <th></th>\n",
       "      <th>datetime</th>\n",
       "      <th>windgust</th>\n",
       "      <th>windspeed</th>\n",
       "    </tr>\n",
       "  </thead>\n",
       "  <tbody>\n",
       "    <tr>\n",
       "      <th>0</th>\n",
       "      <td>2020-01-01T00:00:00</td>\n",
       "      <td>0.0</td>\n",
       "      <td>204.0</td>\n",
       "    </tr>\n",
       "    <tr>\n",
       "      <th>1</th>\n",
       "      <td>2020-01-01T00:00:00</td>\n",
       "      <td>0.0</td>\n",
       "      <td>204.0</td>\n",
       "    </tr>\n",
       "    <tr>\n",
       "      <th>2</th>\n",
       "      <td>2020-01-01T01:00:00</td>\n",
       "      <td>0.0</td>\n",
       "      <td>492.0</td>\n",
       "    </tr>\n",
       "    <tr>\n",
       "      <th>3</th>\n",
       "      <td>2020-01-01T01:00:00</td>\n",
       "      <td>0.0</td>\n",
       "      <td>492.0</td>\n",
       "    </tr>\n",
       "    <tr>\n",
       "      <th>4</th>\n",
       "      <td>2020-01-01T02:00:00</td>\n",
       "      <td>0.0</td>\n",
       "      <td>480.0</td>\n",
       "    </tr>\n",
       "  </tbody>\n",
       "</table>\n",
       "</div>"
      ],
      "text/plain": [
       "              datetime windgust windspeed\n",
       "0  2020-01-01T00:00:00      0.0     204.0\n",
       "1  2020-01-01T00:00:00      0.0     204.0\n",
       "2  2020-01-01T01:00:00      0.0     492.0\n",
       "3  2020-01-01T01:00:00      0.0     492.0\n",
       "4  2020-01-01T02:00:00      0.0     480.0"
      ]
     },
     "execution_count": 13,
     "metadata": {},
     "output_type": "execute_result"
    }
   ],
   "source": [
    "wind_df_long.head()"
   ]
  },
  {
   "cell_type": "code",
   "execution_count": 14,
   "id": "01ae01a3",
   "metadata": {},
   "outputs": [],
   "source": [
    "test_begin_point = 1475"
   ]
  },
  {
   "cell_type": "code",
   "execution_count": 15,
   "id": "c03220ae",
   "metadata": {},
   "outputs": [
    {
     "data": {
      "text/plain": [
       "1475"
      ]
     },
     "execution_count": 15,
     "metadata": {},
     "output_type": "execute_result"
    }
   ],
   "source": [
    "endog_train = elec_df[\"embedded_wind_generation\"][:test_begin_point].to_numpy()\n",
    "endog_train = np.array(endog_train, dtype=float)\n",
    "len(endog_train)"
   ]
  },
  {
   "cell_type": "code",
   "execution_count": 16,
   "id": "b0f4aec7",
   "metadata": {},
   "outputs": [
    {
     "data": {
      "text/plain": [
       "493"
      ]
     },
     "execution_count": 16,
     "metadata": {},
     "output_type": "execute_result"
    }
   ],
   "source": [
    "endog_test_df = elec_df[\"embedded_wind_generation\"][test_begin_point:-4]\n",
    "endog_test = np.array(endog_test_df, dtype=float)\n",
    "len(endog_test)"
   ]
  },
  {
   "cell_type": "code",
   "execution_count": 17,
   "id": "cc2de939",
   "metadata": {},
   "outputs": [
    {
     "data": {
      "text/plain": [
       "1475"
      ]
     },
     "execution_count": 17,
     "metadata": {},
     "output_type": "execute_result"
    }
   ],
   "source": [
    "exog_train = wind_df_long[\"windspeed\"][:test_begin_point].to_numpy()\n",
    "exog_train = np.array(exog_train, dtype=float)\n",
    "exog_train = exog_train\n",
    "len(exog_train)"
   ]
  },
  {
   "cell_type": "code",
   "execution_count": 18,
   "id": "feed836d",
   "metadata": {},
   "outputs": [
    {
     "data": {
      "text/plain": [
       "493"
      ]
     },
     "execution_count": 18,
     "metadata": {},
     "output_type": "execute_result"
    }
   ],
   "source": [
    "exog_test = wind_df_long[\"windspeed\"][test_begin_point:].to_numpy()\n",
    "exog_test = np.array(exog_test, dtype=float)\n",
    "exog_test = exog_test\n",
    "len(exog_test)"
   ]
  },
  {
   "cell_type": "code",
   "execution_count": 19,
   "id": "61c4f6a5",
   "metadata": {},
   "outputs": [],
   "source": [
    "# import pmdarima as pm\n",
    "# sarimax = pm.auto_arima(elec_df[\"embedded_wind_generation\"], exogenous=wind_df_long[\"windspeed\"],\n",
    "#                            start_p=0, start_q=0,\n",
    "#                            test='adf',\n",
    "#                            max_p=2, max_q=2, m=12,\n",
    "#                            start_P=0, seasonal=True,\n",
    "#                            d=None, D=1, trace=True,\n",
    "#                            suppress_warnings=True, \n",
    "#                            stepwise=True)"
   ]
  },
  {
   "cell_type": "code",
   "execution_count": null,
   "id": "aee11805",
   "metadata": {},
   "outputs": [],
   "source": []
  },
  {
   "cell_type": "code",
   "execution_count": 20,
   "id": "6e0352ec",
   "metadata": {},
   "outputs": [
    {
     "data": {
      "text/plain": [
       "<statsmodels.tsa.statespace.sarimax.SARIMAX at 0x153b6c9a0>"
      ]
     },
     "execution_count": 20,
     "metadata": {},
     "output_type": "execute_result"
    }
   ],
   "source": [
    "SARIMAX(endog=endog_train,\n",
    "        exog=exog_train,\n",
    "        order=(2, 0, 2),seasonal_order=(2,1,0,12)\n",
    "       )"
   ]
  },
  {
   "cell_type": "code",
   "execution_count": 21,
   "id": "53370d11",
   "metadata": {},
   "outputs": [
    {
     "name": "stdout",
     "output_type": "stream",
     "text": [
      "RUNNING THE L-BFGS-B CODE\n",
      "\n",
      "           * * *\n",
      "\n",
      "Machine precision = 2.220D-16\n",
      " N =            5     M =           10\n",
      "\n",
      "At X0         0 variables are exactly at the bounds\n",
      "\n",
      "At iterate    0    f=  7.00196D+00    |proj g|=  9.76121D-01\n"
     ]
    },
    {
     "name": "stderr",
     "output_type": "stream",
     "text": [
      " This problem is unconstrained.\n"
     ]
    },
    {
     "name": "stdout",
     "output_type": "stream",
     "text": [
      "\n",
      "At iterate    5    f=  6.73851D+00    |proj g|=  3.36847D-02\n",
      "\n",
      "At iterate   10    f=  6.72218D+00    |proj g|=  5.48596D-03\n",
      "\n",
      "At iterate   15    f=  6.72134D+00    |proj g|=  1.92019D-03\n",
      "\n",
      "At iterate   20    f=  6.63091D+00    |proj g|=  2.00834D-01\n",
      "\n",
      "At iterate   25    f=  6.61391D+00    |proj g|=  5.48399D-04\n",
      "\n",
      "           * * *\n",
      "\n",
      "Tit   = total number of iterations\n",
      "Tnf   = total number of function evaluations\n",
      "Tnint = total number of segments explored during Cauchy searches\n",
      "Skip  = number of BFGS updates skipped\n",
      "Nact  = number of active bounds at final generalized Cauchy point\n",
      "Projg = norm of the final projected gradient\n",
      "F     = final function value\n",
      "\n",
      "           * * *\n",
      "\n",
      "   N    Tit     Tnf  Tnint  Skip  Nact     Projg        F\n",
      "    5     27     35      1     0     0   8.311D-05   6.614D+00\n",
      "  F =   6.6139137621572148     \n",
      "\n",
      "CONVERGENCE: REL_REDUCTION_OF_F_<=_FACTR*EPSMCH             \n"
     ]
    }
   ],
   "source": [
    "mod = SARIMAX(endog_train, order=(1, 0, 0),seasonal_order=(2,1,0,12), exog=(exog_train), alpha=0.02, beta=0.02)\n",
    "mod = mod.fit(maxiter=300)"
   ]
  },
  {
   "cell_type": "code",
   "execution_count": 22,
   "id": "0b6f81d2",
   "metadata": {},
   "outputs": [
    {
     "name": "stdout",
     "output_type": "stream",
     "text": [
      "                                     SARIMAX Results                                      \n",
      "==========================================================================================\n",
      "Dep. Variable:                                  y   No. Observations:                 1475\n",
      "Model:             SARIMAX(1, 0, 0)x(2, 1, 0, 12)   Log Likelihood               -9755.523\n",
      "Date:                            Wed, 22 Mar 2023   AIC                          19521.046\n",
      "Time:                                    15:13:24   BIC                          19547.487\n",
      "Sample:                                         0   HQIC                         19530.908\n",
      "                                           - 1475                                         \n",
      "Covariance Type:                              opg                                         \n",
      "==============================================================================\n",
      "                 coef    std err          z      P>|z|      [0.025      0.975]\n",
      "------------------------------------------------------------------------------\n",
      "x1            -0.0014      0.013     -0.114      0.909      -0.026       0.023\n",
      "ar.L1          1.0000      0.004    262.834      0.000       0.993       1.007\n",
      "ar.S.L12      -0.6324      0.005   -124.737      0.000      -0.642      -0.622\n",
      "ar.S.L24      -0.3368      0.005    -62.515      0.000      -0.347      -0.326\n",
      "sigma2      3.602e+04    248.058    145.198      0.000    3.55e+04    3.65e+04\n",
      "===================================================================================\n",
      "Ljung-Box (L1) (Q):                  90.48   Jarque-Bera (JB):           1252011.89\n",
      "Prob(Q):                              0.00   Prob(JB):                         0.00\n",
      "Heteroskedasticity (H):               5.85   Skew:                            -0.03\n",
      "Prob(H) (two-sided):                  0.00   Kurtosis:                       146.31\n",
      "===================================================================================\n",
      "\n",
      "Warnings:\n",
      "[1] Covariance matrix calculated using the outer product of gradients (complex-step).\n"
     ]
    }
   ],
   "source": [
    "print(mod.summary())"
   ]
  },
  {
   "cell_type": "code",
   "execution_count": 23,
   "id": "19838890",
   "metadata": {},
   "outputs": [],
   "source": [
    "# Forecast\n",
    "forecast_length = 100\n",
    "results = mod.get_forecast(forecast_length, exog = exog_test[:forecast_length], alpha=0.05)\n",
    "forecast = results.predicted_mean\n",
    "confidence_int = results.conf_int()"
   ]
  },
  {
   "cell_type": "code",
   "execution_count": 24,
   "id": "bf2d5eba",
   "metadata": {},
   "outputs": [
    {
     "data": {
      "text/plain": [
       "array([3913.23116319, 3894.95009947, 3877.77116235, 3903.7471607 ,\n",
       "       3928.85863898, 3937.47292696, 3947.08456288, 3942.5067396 ,\n",
       "       3936.81022136, 3960.04515466, 3984.41030248, 4015.49770953,\n",
       "       4038.65809959, 4072.27443301, 4105.88150451, 4178.75651907,\n",
       "       4250.40049629, 4303.3804856 , 4356.89975033, 4379.46362534,\n",
       "       4400.12160611, 4438.54138655, 4479.98390823, 4497.85890022,\n",
       "       4506.10419418, 4522.85078673, 4539.54415448, 4604.19665259,\n",
       "       4667.24500857, 4698.39675815, 4730.66514077, 4731.91176614,\n",
       "       4733.42864653, 4753.1693585 , 4774.24334907, 4786.08397602,\n",
       "       4784.90792662, 4794.57259658, 4804.84088073, 4858.60294236,\n",
       "       4911.39869449, 4942.22297287, 4973.12585405, 4979.46817876,\n",
       "       4984.19772958, 5011.65834052, 5039.84599188, 5058.28412468,\n",
       "       5068.07483459, 5089.95556135, 5109.96900525, 5174.1828794 ,\n",
       "       5236.34250001, 5273.77854544, 5312.68786986, 5323.23196007,\n",
       "       5332.36216476, 5361.78367203, 5392.31848825, 5410.77342971,\n",
       "       5416.78736555, 5433.42079595, 5449.42076553, 5510.77504142,\n",
       "       5570.45152146, 5603.68399177, 5637.97517648, 5644.95972203,\n",
       "       5650.20997838, 5674.81977818, 5701.45928141, 5718.33135643,\n",
       "       5723.02483039, 5738.05704964, 5753.29771063, 5812.69925111,\n",
       "       5870.77709485, 5903.61085498, 5938.11075888, 5945.28104503,\n",
       "       5951.48772735, 5978.04734315, 6006.34465925, 6024.17753788,\n",
       "       6030.96323843, 6047.70963898, 6064.76739026, 6125.4588941 ,\n",
       "       6185.3691485 , 6219.43944941, 6255.34794788, 6262.15822717,\n",
       "       6269.05202499, 6296.48102764, 6325.02708983, 6342.07687481,\n",
       "       6347.96932772, 6363.80777073, 6379.95725531, 6440.51691402])"
      ]
     },
     "execution_count": 24,
     "metadata": {},
     "output_type": "execute_result"
    }
   ],
   "source": [
    "forecast"
   ]
  },
  {
   "cell_type": "code",
   "execution_count": 25,
   "id": "9e891d32",
   "metadata": {},
   "outputs": [],
   "source": [
    "def plot_forecast(fc, train, test, windspeed, upper=None, lower=None):\n",
    "    is_confidence_int = isinstance(upper, np.ndarray) and isinstance(lower, np.ndarray)\n",
    "    # Prepare plot series\n",
    "    fc_series = pd.Series(fc, index=test.index)\n",
    "    wind_series = pd.Series(windspeed)\n",
    "    wind_series = wind_series\n",
    "    lower_series = pd.Series(upper, index=test.index) if is_confidence_int else None\n",
    "    upper_series = pd.Series(lower, index=test.index) if is_confidence_int else None\n",
    "\n",
    "    # Plot\n",
    "    plt.figure(figsize=(10,4), dpi=100)\n",
    "    plt.plot(train, label='training generation', color='black')\n",
    "    plt.plot(test, label='actual generation', color='black', ls='--')\n",
    "    plt.plot(fc_series, label='forecast generation', color='orange')\n",
    "    plt.plot(wind_series, label='wind speed in hull', color='blue')\n",
    "    plt.xlim(1200,test_begin_point+200)\n",
    "    if is_confidence_int:\n",
    "        plt.fill_between(lower_series.index, lower_series, upper_series, color='k', alpha=.15)\n",
    "    plt.title('Forecast vs Actuals')\n",
    "    plt.legend(loc='upper left', fontsize=8);"
   ]
  },
  {
   "cell_type": "code",
   "execution_count": null,
   "id": "712c1b17",
   "metadata": {},
   "outputs": [],
   "source": []
  },
  {
   "cell_type": "code",
   "execution_count": 26,
   "id": "bf5db2ac",
   "metadata": {},
   "outputs": [],
   "source": [
    "endog_test = pd.DataFrame(endog_test)\n",
    "endog_test.index = endog_test.index + test_begin_point"
   ]
  },
  {
   "cell_type": "code",
   "execution_count": 27,
   "id": "647ae393",
   "metadata": {},
   "outputs": [
    {
     "data": {
      "image/png": "[encoded data removed]",
      "text/plain": [
       "<Figure size 1000x400 with 1 Axes>"
      ]
     },
     "metadata": {},
     "output_type": "display_data"
    }
   ],
   "source": [
    "forecast_recons = pd.Series(forecast, index=endog_test.index[:forecast_length])\n",
    "\n",
    "plot_forecast(forecast_recons,endog_train, endog_test, wind_df_long[\"windspeed\"])"
   ]
  },
  {
   "cell_type": "code",
   "execution_count": null,
   "id": "260f9743",
   "metadata": {},
   "outputs": [],
   "source": []
  },
  {
   "cell_type": "code",
   "execution_count": null,
   "id": "daea086e",
   "metadata": {},
   "outputs": [],
   "source": []
  }
 ],
 "metadata": {
  "kernelspec": {
   "display_name": "Python 3 (ipykernel)",
   "language": "python",
   "name": "python3"
  },
  "language_info": {
   "codemirror_mode": {
    "name": "ipython",
    "version": 3
   },
   "file_extension": ".py",
   "mimetype": "text/x-python",
   "name": "python",
   "nbconvert_exporter": "python",
   "pygments_lexer": "ipython3",
   "version": "3.10.9"
  },
  "toc": {
   "base_numbering": 1,
   "nav_menu": {},
   "number_sections": true,
   "sideBar": true,
   "skip_h1_title": false,
   "title_cell": "Table of Contents",
   "title_sidebar": "Contents",
   "toc_cell": false,
   "toc_position": {},
   "toc_section_display": true,
   "toc_window_display": false
  }
 },
 "nbformat": 4,
 "nbformat_minor": 5
}
