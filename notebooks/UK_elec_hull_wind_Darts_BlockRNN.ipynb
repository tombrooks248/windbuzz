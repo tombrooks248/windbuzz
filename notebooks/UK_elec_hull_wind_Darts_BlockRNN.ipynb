{
 "cells": [
  {
   "cell_type": "code",
   "execution_count": 1,
   "id": "2410d4b4",
   "metadata": {},
   "outputs": [],
   "source": [
    "\n",
    "import matplotlib.pyplot as plt"
   ]
  },
  {
   "cell_type": "code",
   "execution_count": null,
   "id": "e8d5dec1",
   "metadata": {},
   "outputs": [],
   "source": []
  },
  {
   "cell_type": "code",
   "execution_count": 2,
   "id": "428d9ae6",
   "metadata": {},
   "outputs": [
    {
     "name": "stderr",
     "output_type": "stream",
     "text": [
      "/Users/DocWeaver/anaconda3/lib/python3.10/site-packages/torchvision/io/image.py:13: UserWarning: Failed to load image Python extension: 'dlopen(/Users/DocWeaver/anaconda3/lib/python3.10/site-packages/torchvision/image.so, 0x0006): Symbol not found: __ZN3c106detail19maybe_wrap_dim_slowIxEET_S2_S2_b\n",
      "  Referenced from: /Users/DocWeaver/anaconda3/lib/python3.10/site-packages/torchvision/image.so\n",
      "  Expected in: /Users/DocWeaver/anaconda3/lib/python3.10/site-packages/torch/lib/libc10.dylib'If you don't plan on using image functionality from `torchvision.io`, you can ignore this warning. Otherwise, there might be something wrong with your environment. Did you have `libjpeg` or `libpng` installed before building `torchvision` from source?\n",
      "  warn(\n"
     ]
    }
   ],
   "source": [
    "import pandas as pd\n",
    "import numpy as np\n",
    "from darts import TimeSeries\n",
    "from pytorch_forecasting.data.timeseries import TimeSeriesDataSet\n",
    "from darts.models import BlockRNNModel"
   ]
  },
  {
   "cell_type": "code",
   "execution_count": 3,
   "id": "e0f04d41",
   "metadata": {},
   "outputs": [],
   "source": [
    "df = pd.read_csv(\"../data/historic_demand_2009_2023.csv\")"
   ]
  },
  {
   "cell_type": "code",
   "execution_count": 4,
   "id": "fd876d9e",
   "metadata": {},
   "outputs": [],
   "source": [
    "elec_df = df[192_816: 194_788]"
   ]
  },
  {
   "cell_type": "code",
   "execution_count": 5,
   "id": "15d22b49",
   "metadata": {},
   "outputs": [],
   "source": [
    "elec_df = elec_df[[\"settlement_date\", \"embedded_wind_generation\"]]"
   ]
  },
  {
   "cell_type": "code",
   "execution_count": 6,
   "id": "ad319038",
   "metadata": {},
   "outputs": [
    {
     "data": {
      "text/html": [
       "<div>\n",
       "<style scoped>\n",
       "    .dataframe tbody tr th:only-of-type {\n",
       "        vertical-align: middle;\n",
       "    }\n",
       "\n",
       "    .dataframe tbody tr th {\n",
       "        vertical-align: top;\n",
       "    }\n",
       "\n",
       "    .dataframe thead th {\n",
       "        text-align: right;\n",
       "    }\n",
       "</style>\n",
       "<table border=\"1\" class=\"dataframe\">\n",
       "  <thead>\n",
       "    <tr style=\"text-align: right;\">\n",
       "      <th></th>\n",
       "      <th>settlement_date</th>\n",
       "      <th>embedded_wind_generation</th>\n",
       "    </tr>\n",
       "  </thead>\n",
       "  <tbody>\n",
       "    <tr>\n",
       "      <th>192816</th>\n",
       "      <td>2020-01-01</td>\n",
       "      <td>1244</td>\n",
       "    </tr>\n",
       "    <tr>\n",
       "      <th>192817</th>\n",
       "      <td>2020-01-01</td>\n",
       "      <td>1188</td>\n",
       "    </tr>\n",
       "    <tr>\n",
       "      <th>192818</th>\n",
       "      <td>2020-01-01</td>\n",
       "      <td>1156</td>\n",
       "    </tr>\n",
       "    <tr>\n",
       "      <th>192819</th>\n",
       "      <td>2020-01-01</td>\n",
       "      <td>1125</td>\n",
       "    </tr>\n",
       "    <tr>\n",
       "      <th>192820</th>\n",
       "      <td>2020-01-01</td>\n",
       "      <td>1106</td>\n",
       "    </tr>\n",
       "  </tbody>\n",
       "</table>\n",
       "</div>"
      ],
      "text/plain": [
       "       settlement_date  embedded_wind_generation\n",
       "192816      2020-01-01                      1244\n",
       "192817      2020-01-01                      1188\n",
       "192818      2020-01-01                      1156\n",
       "192819      2020-01-01                      1125\n",
       "192820      2020-01-01                      1106"
      ]
     },
     "execution_count": 6,
     "metadata": {},
     "output_type": "execute_result"
    }
   ],
   "source": [
    "elec_df.head()"
   ]
  },
  {
   "cell_type": "code",
   "execution_count": 7,
   "id": "362b738f",
   "metadata": {},
   "outputs": [
    {
     "data": {
      "text/plain": [
       "979    53.6\n",
       "980    49.7\n",
       "981    57.8\n",
       "982    65.0\n",
       "983    78.4\n",
       "Name: windgust, dtype: float64"
      ]
     },
     "execution_count": 7,
     "metadata": {},
     "output_type": "execute_result"
    }
   ],
   "source": [
    "wind_df = pd.read_csv(\"../data/Hull_2020-01-01_to_2020-02-10.csv\")\n",
    "wind_df[\"windgust\"].tail()\n"
   ]
  },
  {
   "cell_type": "code",
   "execution_count": 8,
   "id": "8345553b",
   "metadata": {},
   "outputs": [],
   "source": [
    "wind_df = wind_df[[\"datetime\",\"windgust\", \"windspeed\"]]"
   ]
  },
  {
   "cell_type": "code",
   "execution_count": null,
   "id": "afcf920b",
   "metadata": {},
   "outputs": [],
   "source": []
  },
  {
   "cell_type": "code",
   "execution_count": 9,
   "id": "322f6b2d",
   "metadata": {},
   "outputs": [],
   "source": [
    "wind_df['windgust'] = wind_df['windgust'].fillna(0)"
   ]
  },
  {
   "cell_type": "code",
   "execution_count": 10,
   "id": "a0298d44",
   "metadata": {},
   "outputs": [
    {
     "data": {
      "text/html": [
       "<div>\n",
       "<style scoped>\n",
       "    .dataframe tbody tr th:only-of-type {\n",
       "        vertical-align: middle;\n",
       "    }\n",
       "\n",
       "    .dataframe tbody tr th {\n",
       "        vertical-align: top;\n",
       "    }\n",
       "\n",
       "    .dataframe thead th {\n",
       "        text-align: right;\n",
       "    }\n",
       "</style>\n",
       "<table border=\"1\" class=\"dataframe\">\n",
       "  <thead>\n",
       "    <tr style=\"text-align: right;\">\n",
       "      <th></th>\n",
       "      <th>datetime</th>\n",
       "      <th>windgust</th>\n",
       "      <th>windspeed</th>\n",
       "    </tr>\n",
       "  </thead>\n",
       "  <tbody>\n",
       "    <tr>\n",
       "      <th>0</th>\n",
       "      <td>2020-01-01T00:00:00</td>\n",
       "      <td>0.0</td>\n",
       "      <td>1.7</td>\n",
       "    </tr>\n",
       "    <tr>\n",
       "      <th>1</th>\n",
       "      <td>2020-01-01T01:00:00</td>\n",
       "      <td>0.0</td>\n",
       "      <td>4.1</td>\n",
       "    </tr>\n",
       "    <tr>\n",
       "      <th>2</th>\n",
       "      <td>2020-01-01T02:00:00</td>\n",
       "      <td>0.0</td>\n",
       "      <td>4.0</td>\n",
       "    </tr>\n",
       "    <tr>\n",
       "      <th>3</th>\n",
       "      <td>2020-01-01T03:00:00</td>\n",
       "      <td>0.0</td>\n",
       "      <td>4.3</td>\n",
       "    </tr>\n",
       "    <tr>\n",
       "      <th>4</th>\n",
       "      <td>2020-01-01T04:00:00</td>\n",
       "      <td>0.0</td>\n",
       "      <td>4.3</td>\n",
       "    </tr>\n",
       "  </tbody>\n",
       "</table>\n",
       "</div>"
      ],
      "text/plain": [
       "              datetime  windgust  windspeed\n",
       "0  2020-01-01T00:00:00       0.0        1.7\n",
       "1  2020-01-01T01:00:00       0.0        4.1\n",
       "2  2020-01-01T02:00:00       0.0        4.0\n",
       "3  2020-01-01T03:00:00       0.0        4.3\n",
       "4  2020-01-01T04:00:00       0.0        4.3"
      ]
     },
     "execution_count": 10,
     "metadata": {},
     "output_type": "execute_result"
    }
   ],
   "source": [
    "wind_df.head()"
   ]
  },
  {
   "cell_type": "code",
   "execution_count": 11,
   "id": "dfcb58ed",
   "metadata": {},
   "outputs": [
    {
     "data": {
      "text/html": [
       "<div>\n",
       "<style scoped>\n",
       "    .dataframe tbody tr th:only-of-type {\n",
       "        vertical-align: middle;\n",
       "    }\n",
       "\n",
       "    .dataframe tbody tr th {\n",
       "        vertical-align: top;\n",
       "    }\n",
       "\n",
       "    .dataframe thead th {\n",
       "        text-align: right;\n",
       "    }\n",
       "</style>\n",
       "<table border=\"1\" class=\"dataframe\">\n",
       "  <thead>\n",
       "    <tr style=\"text-align: right;\">\n",
       "      <th></th>\n",
       "      <th>datetime</th>\n",
       "      <th>windgust</th>\n",
       "      <th>windspeed</th>\n",
       "    </tr>\n",
       "  </thead>\n",
       "  <tbody>\n",
       "    <tr>\n",
       "      <th>0</th>\n",
       "      <td>2020-01-01T00:00:00</td>\n",
       "      <td>0.0</td>\n",
       "      <td>1.7</td>\n",
       "    </tr>\n",
       "    <tr>\n",
       "      <th>1</th>\n",
       "      <td>2020-01-01T00:00:00</td>\n",
       "      <td>0.0</td>\n",
       "      <td>1.7</td>\n",
       "    </tr>\n",
       "    <tr>\n",
       "      <th>2</th>\n",
       "      <td>2020-01-01T01:00:00</td>\n",
       "      <td>0.0</td>\n",
       "      <td>4.1</td>\n",
       "    </tr>\n",
       "    <tr>\n",
       "      <th>3</th>\n",
       "      <td>2020-01-01T01:00:00</td>\n",
       "      <td>0.0</td>\n",
       "      <td>4.1</td>\n",
       "    </tr>\n",
       "    <tr>\n",
       "      <th>4</th>\n",
       "      <td>2020-01-01T02:00:00</td>\n",
       "      <td>0.0</td>\n",
       "      <td>4.0</td>\n",
       "    </tr>\n",
       "  </tbody>\n",
       "</table>\n",
       "</div>"
      ],
      "text/plain": [
       "              datetime windgust windspeed\n",
       "0  2020-01-01T00:00:00      0.0       1.7\n",
       "1  2020-01-01T00:00:00      0.0       1.7\n",
       "2  2020-01-01T01:00:00      0.0       4.1\n",
       "3  2020-01-01T01:00:00      0.0       4.1\n",
       "4  2020-01-01T02:00:00      0.0       4.0"
      ]
     },
     "execution_count": 11,
     "metadata": {},
     "output_type": "execute_result"
    }
   ],
   "source": [
    "wind_df_long = pd.DataFrame(np.repeat(wind_df.values, 2, axis=0))\n",
    "wind_df_long.columns = wind_df.columns\n",
    "wind_df_long.head()"
   ]
  },
  {
   "cell_type": "code",
   "execution_count": 12,
   "id": "8a6b8490",
   "metadata": {},
   "outputs": [],
   "source": [
    "wind_df_long[\"windspeed\"] = wind_df_long[\"windspeed\"]*120"
   ]
  },
  {
   "cell_type": "code",
   "execution_count": 13,
   "id": "5120d9fa",
   "metadata": {},
   "outputs": [
    {
     "data": {
      "text/html": [
       "<div>\n",
       "<style scoped>\n",
       "    .dataframe tbody tr th:only-of-type {\n",
       "        vertical-align: middle;\n",
       "    }\n",
       "\n",
       "    .dataframe tbody tr th {\n",
       "        vertical-align: top;\n",
       "    }\n",
       "\n",
       "    .dataframe thead th {\n",
       "        text-align: right;\n",
       "    }\n",
       "</style>\n",
       "<table border=\"1\" class=\"dataframe\">\n",
       "  <thead>\n",
       "    <tr style=\"text-align: right;\">\n",
       "      <th></th>\n",
       "      <th>datetime</th>\n",
       "      <th>windgust</th>\n",
       "      <th>windspeed</th>\n",
       "    </tr>\n",
       "  </thead>\n",
       "  <tbody>\n",
       "    <tr>\n",
       "      <th>0</th>\n",
       "      <td>2020-01-01T00:00:00</td>\n",
       "      <td>0.0</td>\n",
       "      <td>204.0</td>\n",
       "    </tr>\n",
       "    <tr>\n",
       "      <th>1</th>\n",
       "      <td>2020-01-01T00:00:00</td>\n",
       "      <td>0.0</td>\n",
       "      <td>204.0</td>\n",
       "    </tr>\n",
       "    <tr>\n",
       "      <th>2</th>\n",
       "      <td>2020-01-01T01:00:00</td>\n",
       "      <td>0.0</td>\n",
       "      <td>492.0</td>\n",
       "    </tr>\n",
       "    <tr>\n",
       "      <th>3</th>\n",
       "      <td>2020-01-01T01:00:00</td>\n",
       "      <td>0.0</td>\n",
       "      <td>492.0</td>\n",
       "    </tr>\n",
       "    <tr>\n",
       "      <th>4</th>\n",
       "      <td>2020-01-01T02:00:00</td>\n",
       "      <td>0.0</td>\n",
       "      <td>480.0</td>\n",
       "    </tr>\n",
       "  </tbody>\n",
       "</table>\n",
       "</div>"
      ],
      "text/plain": [
       "              datetime windgust windspeed\n",
       "0  2020-01-01T00:00:00      0.0     204.0\n",
       "1  2020-01-01T00:00:00      0.0     204.0\n",
       "2  2020-01-01T01:00:00      0.0     492.0\n",
       "3  2020-01-01T01:00:00      0.0     492.0\n",
       "4  2020-01-01T02:00:00      0.0     480.0"
      ]
     },
     "execution_count": 13,
     "metadata": {},
     "output_type": "execute_result"
    }
   ],
   "source": [
    "wind_df_long.head()"
   ]
  },
  {
   "cell_type": "code",
   "execution_count": 14,
   "id": "ddd3caf9",
   "metadata": {},
   "outputs": [],
   "source": [
    "test_begin_point = 1475"
   ]
  },
  {
   "cell_type": "code",
   "execution_count": 15,
   "id": "9d43bb6b",
   "metadata": {},
   "outputs": [
    {
     "data": {
      "text/plain": [
       "1475"
      ]
     },
     "execution_count": 15,
     "metadata": {},
     "output_type": "execute_result"
    }
   ],
   "source": [
    "endog_train = elec_df[\"embedded_wind_generation\"][:test_begin_point].to_numpy()\n",
    "endog_train = np.array(endog_train, dtype=float)\n",
    "len(endog_train)"
   ]
  },
  {
   "cell_type": "code",
   "execution_count": 16,
   "id": "34a6bf27",
   "metadata": {},
   "outputs": [
    {
     "data": {
      "text/plain": [
       "493"
      ]
     },
     "execution_count": 16,
     "metadata": {},
     "output_type": "execute_result"
    }
   ],
   "source": [
    "endog_test_df = elec_df[\"embedded_wind_generation\"][test_begin_point:-4]\n",
    "endog_test = np.array(endog_test_df, dtype=float)\n",
    "len(endog_test)"
   ]
  },
  {
   "cell_type": "code",
   "execution_count": 17,
   "id": "644b903d",
   "metadata": {},
   "outputs": [
    {
     "data": {
      "text/plain": [
       "1475"
      ]
     },
     "execution_count": 17,
     "metadata": {},
     "output_type": "execute_result"
    }
   ],
   "source": [
    "exog_train = wind_df_long[\"windspeed\"][:test_begin_point].to_numpy()\n",
    "exog_train = np.array(exog_train, dtype=float)\n",
    "exog_train = exog_train\n",
    "len(exog_train)"
   ]
  },
  {
   "cell_type": "code",
   "execution_count": 18,
   "id": "d83a2fda",
   "metadata": {},
   "outputs": [
    {
     "data": {
      "text/plain": [
       "493"
      ]
     },
     "execution_count": 18,
     "metadata": {},
     "output_type": "execute_result"
    }
   ],
   "source": [
    "exog_test = wind_df_long[\"windspeed\"][test_begin_point:].to_numpy()\n",
    "exog_test = np.array(exog_test, dtype=float)\n",
    "exog_test = exog_test\n",
    "len(exog_test)"
   ]
  },
  {
   "cell_type": "code",
   "execution_count": 19,
   "id": "4943882b",
   "metadata": {},
   "outputs": [
    {
     "data": {
      "text/plain": [
       "0       2020-01-01T00:00:00\n",
       "1       2020-01-01T00:00:00\n",
       "2       2020-01-01T01:00:00\n",
       "3       2020-01-01T01:00:00\n",
       "4       2020-01-01T02:00:00\n",
       "               ...         \n",
       "1963    2020-02-10T21:00:00\n",
       "1964    2020-02-10T22:00:00\n",
       "1965    2020-02-10T22:00:00\n",
       "1966    2020-02-10T23:00:00\n",
       "1967    2020-02-10T23:00:00\n",
       "Name: datetime, Length: 1968, dtype: object"
      ]
     },
     "execution_count": 19,
     "metadata": {},
     "output_type": "execute_result"
    }
   ],
   "source": [
    "wind_df_long[\"datetime\"]"
   ]
  },
  {
   "cell_type": "code",
   "execution_count": 20,
   "id": "cfa582c9",
   "metadata": {},
   "outputs": [],
   "source": [
    "endog_train = pd.DataFrame(endog_train.astype(float),columns=[\"endog\"])"
   ]
  },
  {
   "cell_type": "code",
   "execution_count": 21,
   "id": "620b5c59",
   "metadata": {},
   "outputs": [],
   "source": [
    "exog_train= pd.DataFrame(exog_train.astype(float),columns=[\"exog\"])"
   ]
  },
  {
   "cell_type": "code",
   "execution_count": 22,
   "id": "0fed4dcb",
   "metadata": {},
   "outputs": [],
   "source": [
    "datetime_series = pd.to_datetime(wind_df_long[\"datetime\"][:test_begin_point], format = '%Y-%m-%dT%H:%M:%S')"
   ]
  },
  {
   "cell_type": "code",
   "execution_count": 23,
   "id": "d2abfaa0",
   "metadata": {},
   "outputs": [],
   "source": [
    "import datetime"
   ]
  },
  {
   "cell_type": "code",
   "execution_count": 24,
   "id": "6a4c22ec",
   "metadata": {},
   "outputs": [
    {
     "data": {
      "text/plain": [
       "Timestamp('2020-01-01 00:00:00')"
      ]
     },
     "execution_count": 24,
     "metadata": {},
     "output_type": "execute_result"
    }
   ],
   "source": [
    "date_and_time = datetime_series[1]\n",
    "date_and_time"
   ]
  },
  {
   "cell_type": "code",
   "execution_count": 25,
   "id": "fda0e5cc",
   "metadata": {},
   "outputs": [],
   "source": [
    "def thirty_min_adder(date_and_time):\n",
    "    time_change = datetime.timedelta(minutes=30)\n",
    "    new_time = date_and_time + time_change\n",
    "    return new_time"
   ]
  },
  {
   "cell_type": "code",
   "execution_count": 26,
   "id": "b1ab0171",
   "metadata": {},
   "outputs": [
    {
     "data": {
      "text/plain": [
       "Timestamp('2020-01-01 00:30:00')"
      ]
     },
     "execution_count": 26,
     "metadata": {},
     "output_type": "execute_result"
    }
   ],
   "source": [
    "new_date_and_time = (thirty_min_adder(date_and_time))\n",
    "new_date_and_time"
   ]
  },
  {
   "cell_type": "code",
   "execution_count": 27,
   "id": "39d42803",
   "metadata": {},
   "outputs": [],
   "source": [
    "datetime_series_odd = datetime_series.iloc[1::2].apply(thirty_min_adder)"
   ]
  },
  {
   "cell_type": "code",
   "execution_count": 28,
   "id": "3d1e9416",
   "metadata": {},
   "outputs": [
    {
     "data": {
      "text/plain": [
       "1      2020-01-01 00:30:00\n",
       "3      2020-01-01 01:30:00\n",
       "5      2020-01-01 02:30:00\n",
       "7      2020-01-01 03:30:00\n",
       "9      2020-01-01 04:30:00\n",
       "               ...        \n",
       "1465   2020-01-31 12:30:00\n",
       "1467   2020-01-31 13:30:00\n",
       "1469   2020-01-31 14:30:00\n",
       "1471   2020-01-31 15:30:00\n",
       "1473   2020-01-31 16:30:00\n",
       "Name: datetime, Length: 737, dtype: datetime64[ns]"
      ]
     },
     "execution_count": 28,
     "metadata": {},
     "output_type": "execute_result"
    }
   ],
   "source": [
    "datetime_series_odd"
   ]
  },
  {
   "cell_type": "code",
   "execution_count": 29,
   "id": "ee234b77",
   "metadata": {},
   "outputs": [],
   "source": [
    "datetime_series.update(datetime_series_odd)"
   ]
  },
  {
   "cell_type": "code",
   "execution_count": 30,
   "id": "243a086f",
   "metadata": {},
   "outputs": [
    {
     "data": {
      "text/plain": [
       "0      2020-01-01 00:00:00\n",
       "1      2020-01-01 00:30:00\n",
       "2      2020-01-01 01:00:00\n",
       "3      2020-01-01 01:30:00\n",
       "4      2020-01-01 02:00:00\n",
       "               ...        \n",
       "1470   2020-01-31 15:00:00\n",
       "1471   2020-01-31 15:30:00\n",
       "1472   2020-01-31 16:00:00\n",
       "1473   2020-01-31 16:30:00\n",
       "1474   2020-01-31 17:00:00\n",
       "Name: datetime, Length: 1475, dtype: datetime64[ns]"
      ]
     },
     "execution_count": 30,
     "metadata": {},
     "output_type": "execute_result"
    }
   ],
   "source": [
    "datetime_series"
   ]
  },
  {
   "cell_type": "code",
   "execution_count": 31,
   "id": "8c34630a",
   "metadata": {},
   "outputs": [
    {
     "data": {
      "text/html": [
       "<div>\n",
       "<style scoped>\n",
       "    .dataframe tbody tr th:only-of-type {\n",
       "        vertical-align: middle;\n",
       "    }\n",
       "\n",
       "    .dataframe tbody tr th {\n",
       "        vertical-align: top;\n",
       "    }\n",
       "\n",
       "    .dataframe thead th {\n",
       "        text-align: right;\n",
       "    }\n",
       "</style>\n",
       "<table border=\"1\" class=\"dataframe\">\n",
       "  <thead>\n",
       "    <tr style=\"text-align: right;\">\n",
       "      <th></th>\n",
       "      <th>endog</th>\n",
       "      <th>exog</th>\n",
       "    </tr>\n",
       "    <tr>\n",
       "      <th>datetime</th>\n",
       "      <th></th>\n",
       "      <th></th>\n",
       "    </tr>\n",
       "  </thead>\n",
       "  <tbody>\n",
       "    <tr>\n",
       "      <th>2020-01-01 00:00:00</th>\n",
       "      <td>1244.0</td>\n",
       "      <td>204.0</td>\n",
       "    </tr>\n",
       "    <tr>\n",
       "      <th>2020-01-01 00:30:00</th>\n",
       "      <td>1188.0</td>\n",
       "      <td>204.0</td>\n",
       "    </tr>\n",
       "    <tr>\n",
       "      <th>2020-01-01 01:00:00</th>\n",
       "      <td>1156.0</td>\n",
       "      <td>492.0</td>\n",
       "    </tr>\n",
       "    <tr>\n",
       "      <th>2020-01-01 01:30:00</th>\n",
       "      <td>1125.0</td>\n",
       "      <td>492.0</td>\n",
       "    </tr>\n",
       "    <tr>\n",
       "      <th>2020-01-01 02:00:00</th>\n",
       "      <td>1106.0</td>\n",
       "      <td>480.0</td>\n",
       "    </tr>\n",
       "  </tbody>\n",
       "</table>\n",
       "</div>"
      ],
      "text/plain": [
       "                      endog   exog\n",
       "datetime                          \n",
       "2020-01-01 00:00:00  1244.0  204.0\n",
       "2020-01-01 00:30:00  1188.0  204.0\n",
       "2020-01-01 01:00:00  1156.0  492.0\n",
       "2020-01-01 01:30:00  1125.0  492.0\n",
       "2020-01-01 02:00:00  1106.0  480.0"
      ]
     },
     "execution_count": 31,
     "metadata": {},
     "output_type": "execute_result"
    }
   ],
   "source": [
    "data = pd.concat([datetime_series,endog_train, exog_train], axis=1)\n",
    "data.set_index([\"datetime\"], inplace = True)\n",
    "data.head()"
   ]
  },
  {
   "cell_type": "code",
   "execution_count": null,
   "id": "0b7619f8",
   "metadata": {},
   "outputs": [],
   "source": []
  },
  {
   "cell_type": "code",
   "execution_count": 32,
   "id": "c4e683e2",
   "metadata": {},
   "outputs": [],
   "source": [
    "endog_timeseries = TimeSeries.from_series(data[\"endog\"])\n",
    "exog_timeseries = TimeSeries.from_series(data[\"exog\"])"
   ]
  },
  {
   "cell_type": "code",
   "execution_count": 33,
   "id": "583aa406",
   "metadata": {},
   "outputs": [
    {
     "data": {
      "text/html": [
       "<div><svg style=\"position: absolute; width: 0; height: 0; overflow: hidden\">\n",
       "<defs>\n",
       "<symbol id=\"icon-database\" viewBox=\"0 0 32 32\">\n",
       "<path d=\"M16 0c-8.837 0-16 2.239-16 5v4c0 2.761 7.163 5 16 5s16-2.239 16-5v-4c0-2.761-7.163-5-16-5z\"></path>\n",
       "<path d=\"M16 17c-8.837 0-16-2.239-16-5v6c0 2.761 7.163 5 16 5s16-2.239 16-5v-6c0 2.761-7.163 5-16 5z\"></path>\n",
       "<path d=\"M16 26c-8.837 0-16-2.239-16-5v6c0 2.761 7.163 5 16 5s16-2.239 16-5v-6c0 2.761-7.163 5-16 5z\"></path>\n",
       "</symbol>\n",
       "<symbol id=\"icon-file-text2\" viewBox=\"0 0 32 32\">\n",
       "<path d=\"M28.681 7.159c-0.694-0.947-1.662-2.053-2.724-3.116s-2.169-2.030-3.116-2.724c-1.612-1.182-2.393-1.319-2.841-1.319h-15.5c-1.378 0-2.5 1.121-2.5 2.5v27c0 1.378 1.122 2.5 2.5 2.5h23c1.378 0 2.5-1.122 2.5-2.5v-19.5c0-0.448-0.137-1.23-1.319-2.841zM24.543 5.457c0.959 0.959 1.712 1.825 2.268 2.543h-4.811v-4.811c0.718 0.556 1.584 1.309 2.543 2.268zM28 29.5c0 0.271-0.229 0.5-0.5 0.5h-23c-0.271 0-0.5-0.229-0.5-0.5v-27c0-0.271 0.229-0.5 0.5-0.5 0 0 15.499-0 15.5 0v7c0 0.552 0.448 1 1 1h7v19.5z\"></path>\n",
       "<path d=\"M23 26h-14c-0.552 0-1-0.448-1-1s0.448-1 1-1h14c0.552 0 1 0.448 1 1s-0.448 1-1 1z\"></path>\n",
       "<path d=\"M23 22h-14c-0.552 0-1-0.448-1-1s0.448-1 1-1h14c0.552 0 1 0.448 1 1s-0.448 1-1 1z\"></path>\n",
       "<path d=\"M23 18h-14c-0.552 0-1-0.448-1-1s0.448-1 1-1h14c0.552 0 1 0.448 1 1s-0.448 1-1 1z\"></path>\n",
       "</symbol>\n",
       "</defs>\n",
       "</svg>\n",
       "<style>/* CSS stylesheet for displaying xarray objects in jupyterlab.\n",
       " *\n",
       " */\n",
       "\n",
       ":root {\n",
       "  --xr-font-color0: var(--jp-content-font-color0, rgba(0, 0, 0, 1));\n",
       "  --xr-font-color2: var(--jp-content-font-color2, rgba(0, 0, 0, 0.54));\n",
       "  --xr-font-color3: var(--jp-content-font-color3, rgba(0, 0, 0, 0.38));\n",
       "  --xr-border-color: var(--jp-border-color2, #e0e0e0);\n",
       "  --xr-disabled-color: var(--jp-layout-color3, #bdbdbd);\n",
       "  --xr-background-color: var(--jp-layout-color0, white);\n",
       "  --xr-background-color-row-even: var(--jp-layout-color1, white);\n",
       "  --xr-background-color-row-odd: var(--jp-layout-color2, #eeeeee);\n",
       "}\n",
       "\n",
       "html[theme=dark],\n",
       "body[data-theme=dark],\n",
       "body.vscode-dark {\n",
       "  --xr-font-color0: rgba(255, 255, 255, 1);\n",
       "  --xr-font-color2: rgba(255, 255, 255, 0.54);\n",
       "  --xr-font-color3: rgba(255, 255, 255, 0.38);\n",
       "  --xr-border-color: #1F1F1F;\n",
       "  --xr-disabled-color: #515151;\n",
       "  --xr-background-color: #111111;\n",
       "  --xr-background-color-row-even: #111111;\n",
       "  --xr-background-color-row-odd: #313131;\n",
       "}\n",
       "\n",
       ".xr-wrap {\n",
       "  display: block !important;\n",
       "  min-width: 300px;\n",
       "  max-width: 700px;\n",
       "}\n",
       "\n",
       ".xr-text-repr-fallback {\n",
       "  /* fallback to plain text repr when CSS is not injected (untrusted notebook) */\n",
       "  display: none;\n",
       "}\n",
       "\n",
       ".xr-header {\n",
       "  padding-top: 6px;\n",
       "  padding-bottom: 6px;\n",
       "  margin-bottom: 4px;\n",
       "  border-bottom: solid 1px var(--xr-border-color);\n",
       "}\n",
       "\n",
       ".xr-header > div,\n",
       ".xr-header > ul {\n",
       "  display: inline;\n",
       "  margin-top: 0;\n",
       "  margin-bottom: 0;\n",
       "}\n",
       "\n",
       ".xr-obj-type,\n",
       ".xr-array-name {\n",
       "  margin-left: 2px;\n",
       "  margin-right: 10px;\n",
       "}\n",
       "\n",
       ".xr-obj-type {\n",
       "  color: var(--xr-font-color2);\n",
       "}\n",
       "\n",
       ".xr-sections {\n",
       "  padding-left: 0 !important;\n",
       "  display: grid;\n",
       "  grid-template-columns: 150px auto auto 1fr 20px 20px;\n",
       "}\n",
       "\n",
       ".xr-section-item {\n",
       "  display: contents;\n",
       "}\n",
       "\n",
       ".xr-section-item input {\n",
       "  display: none;\n",
       "}\n",
       "\n",
       ".xr-section-item input + label {\n",
       "  color: var(--xr-disabled-color);\n",
       "}\n",
       "\n",
       ".xr-section-item input:enabled + label {\n",
       "  cursor: pointer;\n",
       "  color: var(--xr-font-color2);\n",
       "}\n",
       "\n",
       ".xr-section-item input:enabled + label:hover {\n",
       "  color: var(--xr-font-color0);\n",
       "}\n",
       "\n",
       ".xr-section-summary {\n",
       "  grid-column: 1;\n",
       "  color: var(--xr-font-color2);\n",
       "  font-weight: 500;\n",
       "}\n",
       "\n",
       ".xr-section-summary > span {\n",
       "  display: inline-block;\n",
       "  padding-left: 0.5em;\n",
       "}\n",
       "\n",
       ".xr-section-summary-in:disabled + label {\n",
       "  color: var(--xr-font-color2);\n",
       "}\n",
       "\n",
       ".xr-section-summary-in + label:before {\n",
       "  display: inline-block;\n",
       "  content: '►';\n",
       "  font-size: 11px;\n",
       "  width: 15px;\n",
       "  text-align: center;\n",
       "}\n",
       "\n",
       ".xr-section-summary-in:disabled + label:before {\n",
       "  color: var(--xr-disabled-color);\n",
       "}\n",
       "\n",
       ".xr-section-summary-in:checked + label:before {\n",
       "  content: '▼';\n",
       "}\n",
       "\n",
       ".xr-section-summary-in:checked + label > span {\n",
       "  display: none;\n",
       "}\n",
       "\n",
       ".xr-section-summary,\n",
       ".xr-section-inline-details {\n",
       "  padding-top: 4px;\n",
       "  padding-bottom: 4px;\n",
       "}\n",
       "\n",
       ".xr-section-inline-details {\n",
       "  grid-column: 2 / -1;\n",
       "}\n",
       "\n",
       ".xr-section-details {\n",
       "  display: none;\n",
       "  grid-column: 1 / -1;\n",
       "  margin-bottom: 5px;\n",
       "}\n",
       "\n",
       ".xr-section-summary-in:checked ~ .xr-section-details {\n",
       "  display: contents;\n",
       "}\n",
       "\n",
       ".xr-array-wrap {\n",
       "  grid-column: 1 / -1;\n",
       "  display: grid;\n",
       "  grid-template-columns: 20px auto;\n",
       "}\n",
       "\n",
       ".xr-array-wrap > label {\n",
       "  grid-column: 1;\n",
       "  vertical-align: top;\n",
       "}\n",
       "\n",
       ".xr-preview {\n",
       "  color: var(--xr-font-color3);\n",
       "}\n",
       "\n",
       ".xr-array-preview,\n",
       ".xr-array-data {\n",
       "  padding: 0 5px !important;\n",
       "  grid-column: 2;\n",
       "}\n",
       "\n",
       ".xr-array-data,\n",
       ".xr-array-in:checked ~ .xr-array-preview {\n",
       "  display: none;\n",
       "}\n",
       "\n",
       ".xr-array-in:checked ~ .xr-array-data,\n",
       ".xr-array-preview {\n",
       "  display: inline-block;\n",
       "}\n",
       "\n",
       ".xr-dim-list {\n",
       "  display: inline-block !important;\n",
       "  list-style: none;\n",
       "  padding: 0 !important;\n",
       "  margin: 0;\n",
       "}\n",
       "\n",
       ".xr-dim-list li {\n",
       "  display: inline-block;\n",
       "  padding: 0;\n",
       "  margin: 0;\n",
       "}\n",
       "\n",
       ".xr-dim-list:before {\n",
       "  content: '(';\n",
       "}\n",
       "\n",
       ".xr-dim-list:after {\n",
       "  content: ')';\n",
       "}\n",
       "\n",
       ".xr-dim-list li:not(:last-child):after {\n",
       "  content: ',';\n",
       "  padding-right: 5px;\n",
       "}\n",
       "\n",
       ".xr-has-index {\n",
       "  font-weight: bold;\n",
       "}\n",
       "\n",
       ".xr-var-list,\n",
       ".xr-var-item {\n",
       "  display: contents;\n",
       "}\n",
       "\n",
       ".xr-var-item > div,\n",
       ".xr-var-item label,\n",
       ".xr-var-item > .xr-var-name span {\n",
       "  background-color: var(--xr-background-color-row-even);\n",
       "  margin-bottom: 0;\n",
       "}\n",
       "\n",
       ".xr-var-item > .xr-var-name:hover span {\n",
       "  padding-right: 5px;\n",
       "}\n",
       "\n",
       ".xr-var-list > li:nth-child(odd) > div,\n",
       ".xr-var-list > li:nth-child(odd) > label,\n",
       ".xr-var-list > li:nth-child(odd) > .xr-var-name span {\n",
       "  background-color: var(--xr-background-color-row-odd);\n",
       "}\n",
       "\n",
       ".xr-var-name {\n",
       "  grid-column: 1;\n",
       "}\n",
       "\n",
       ".xr-var-dims {\n",
       "  grid-column: 2;\n",
       "}\n",
       "\n",
       ".xr-var-dtype {\n",
       "  grid-column: 3;\n",
       "  text-align: right;\n",
       "  color: var(--xr-font-color2);\n",
       "}\n",
       "\n",
       ".xr-var-preview {\n",
       "  grid-column: 4;\n",
       "}\n",
       "\n",
       ".xr-index-preview {\n",
       "  grid-column: 2 / 5;\n",
       "  color: var(--xr-font-color2);\n",
       "}\n",
       "\n",
       ".xr-var-name,\n",
       ".xr-var-dims,\n",
       ".xr-var-dtype,\n",
       ".xr-preview,\n",
       ".xr-attrs dt {\n",
       "  white-space: nowrap;\n",
       "  overflow: hidden;\n",
       "  text-overflow: ellipsis;\n",
       "  padding-right: 10px;\n",
       "}\n",
       "\n",
       ".xr-var-name:hover,\n",
       ".xr-var-dims:hover,\n",
       ".xr-var-dtype:hover,\n",
       ".xr-attrs dt:hover {\n",
       "  overflow: visible;\n",
       "  width: auto;\n",
       "  z-index: 1;\n",
       "}\n",
       "\n",
       ".xr-var-attrs,\n",
       ".xr-var-data,\n",
       ".xr-index-data {\n",
       "  display: none;\n",
       "  background-color: var(--xr-background-color) !important;\n",
       "  padding-bottom: 5px !important;\n",
       "}\n",
       "\n",
       ".xr-var-attrs-in:checked ~ .xr-var-attrs,\n",
       ".xr-var-data-in:checked ~ .xr-var-data,\n",
       ".xr-index-data-in:checked ~ .xr-index-data {\n",
       "  display: block;\n",
       "}\n",
       "\n",
       ".xr-var-data > table {\n",
       "  float: right;\n",
       "}\n",
       "\n",
       ".xr-var-name span,\n",
       ".xr-var-data,\n",
       ".xr-index-name div,\n",
       ".xr-index-data,\n",
       ".xr-attrs {\n",
       "  padding-left: 25px !important;\n",
       "}\n",
       "\n",
       ".xr-attrs,\n",
       ".xr-var-attrs,\n",
       ".xr-var-data,\n",
       ".xr-index-data {\n",
       "  grid-column: 1 / -1;\n",
       "}\n",
       "\n",
       "dl.xr-attrs {\n",
       "  padding: 0;\n",
       "  margin: 0;\n",
       "  display: grid;\n",
       "  grid-template-columns: 125px auto;\n",
       "}\n",
       "\n",
       ".xr-attrs dt,\n",
       ".xr-attrs dd {\n",
       "  padding: 0;\n",
       "  margin: 0;\n",
       "  float: left;\n",
       "  padding-right: 10px;\n",
       "  width: auto;\n",
       "}\n",
       "\n",
       ".xr-attrs dt {\n",
       "  font-weight: normal;\n",
       "  grid-column: 1;\n",
       "}\n",
       "\n",
       ".xr-attrs dt:hover span {\n",
       "  display: inline-block;\n",
       "  background: var(--xr-background-color);\n",
       "  padding-right: 10px;\n",
       "}\n",
       "\n",
       ".xr-attrs dd {\n",
       "  grid-column: 2;\n",
       "  white-space: pre-wrap;\n",
       "  word-break: break-all;\n",
       "}\n",
       "\n",
       ".xr-icon-database,\n",
       ".xr-icon-file-text2,\n",
       ".xr-no-icon {\n",
       "  display: inline-block;\n",
       "  vertical-align: middle;\n",
       "  width: 1em;\n",
       "  height: 1.5em !important;\n",
       "  stroke-width: 0;\n",
       "  stroke: currentColor;\n",
       "  fill: currentColor;\n",
       "}\n",
       "</style><pre class='xr-text-repr-fallback'>&lt;TimeSeries (DataArray) (datetime: 1475, component: 1, sample: 1)&gt;\n",
       "array([[[1244.]],\n",
       "\n",
       "       [[1188.]],\n",
       "\n",
       "       [[1156.]],\n",
       "\n",
       "       ...,\n",
       "\n",
       "       [[3961.]],\n",
       "\n",
       "       [[3957.]],\n",
       "\n",
       "       [[3946.]]])\n",
       "Coordinates:\n",
       "  * datetime   (datetime) datetime64[ns] 2020-01-01 ... 2020-01-31T17:00:00\n",
       "  * component  (component) object &#x27;endog&#x27;\n",
       "Dimensions without coordinates: sample\n",
       "Attributes:\n",
       "    static_covariates:  None\n",
       "    hierarchy:          None</pre><div class='xr-wrap' style='display:none'><div class='xr-header'><div class='xr-obj-type'>TimeSeries (DataArray)</div><div class='xr-array-name'></div><ul class='xr-dim-list'><li><span class='xr-has-index'>datetime</span>: 1475</li><li><span class='xr-has-index'>component</span>: 1</li><li><span>sample</span>: 1</li></ul></div><ul class='xr-sections'><li class='xr-section-item'><div class='xr-array-wrap'><input id='section-bb6ff056-b8dc-4670-a92e-a1cfc4ff0274' class='xr-array-in' type='checkbox' checked><label for='section-bb6ff056-b8dc-4670-a92e-a1cfc4ff0274' title='Show/hide data repr'><svg class='icon xr-icon-database'><use xlink:href='#icon-database'></use></svg></label><div class='xr-array-preview xr-preview'><span>1.244e+03 1.188e+03 1.156e+03 ... 3.961e+03 3.957e+03 3.946e+03</span></div><div class='xr-array-data'><pre>array([[[1244.]],\n",
       "\n",
       "       [[1188.]],\n",
       "\n",
       "       [[1156.]],\n",
       "\n",
       "       ...,\n",
       "\n",
       "       [[3961.]],\n",
       "\n",
       "       [[3957.]],\n",
       "\n",
       "       [[3946.]]])</pre></div></div></li><li class='xr-section-item'><input id='section-ebe3b43f-5bff-4d52-a57e-f80d7c048495' class='xr-section-summary-in' type='checkbox'  checked><label for='section-ebe3b43f-5bff-4d52-a57e-f80d7c048495' class='xr-section-summary' >Coordinates: <span>(2)</span></label><div class='xr-section-inline-details'></div><div class='xr-section-details'><ul class='xr-var-list'><li class='xr-var-item'><div class='xr-var-name'><span class='xr-has-index'>datetime</span></div><div class='xr-var-dims'>(datetime)</div><div class='xr-var-dtype'>datetime64[ns]</div><div class='xr-var-preview xr-preview'>2020-01-01 ... 2020-01-31T17:00:00</div><input id='attrs-15d798ac-666c-4c8d-8ecc-c34960b2c8db' class='xr-var-attrs-in' type='checkbox' disabled><label for='attrs-15d798ac-666c-4c8d-8ecc-c34960b2c8db' title='Show/Hide attributes'><svg class='icon xr-icon-file-text2'><use xlink:href='#icon-file-text2'></use></svg></label><input id='data-7c8440f9-e5e8-4e47-bfda-5931c0d018e4' class='xr-var-data-in' type='checkbox'><label for='data-7c8440f9-e5e8-4e47-bfda-5931c0d018e4' title='Show/Hide data repr'><svg class='icon xr-icon-database'><use xlink:href='#icon-database'></use></svg></label><div class='xr-var-attrs'><dl class='xr-attrs'></dl></div><div class='xr-var-data'><pre>array([&#x27;2020-01-01T00:00:00.000000000&#x27;, &#x27;2020-01-01T00:30:00.000000000&#x27;,\n",
       "       &#x27;2020-01-01T01:00:00.000000000&#x27;, ..., &#x27;2020-01-31T16:00:00.000000000&#x27;,\n",
       "       &#x27;2020-01-31T16:30:00.000000000&#x27;, &#x27;2020-01-31T17:00:00.000000000&#x27;],\n",
       "      dtype=&#x27;datetime64[ns]&#x27;)</pre></div></li><li class='xr-var-item'><div class='xr-var-name'><span class='xr-has-index'>component</span></div><div class='xr-var-dims'>(component)</div><div class='xr-var-dtype'>object</div><div class='xr-var-preview xr-preview'>&#x27;endog&#x27;</div><input id='attrs-762d6cad-b9db-4c04-b014-ee49c1accc72' class='xr-var-attrs-in' type='checkbox' disabled><label for='attrs-762d6cad-b9db-4c04-b014-ee49c1accc72' title='Show/Hide attributes'><svg class='icon xr-icon-file-text2'><use xlink:href='#icon-file-text2'></use></svg></label><input id='data-0fe78502-4571-45b0-ae6e-d0cd6e6894de' class='xr-var-data-in' type='checkbox'><label for='data-0fe78502-4571-45b0-ae6e-d0cd6e6894de' title='Show/Hide data repr'><svg class='icon xr-icon-database'><use xlink:href='#icon-database'></use></svg></label><div class='xr-var-attrs'><dl class='xr-attrs'></dl></div><div class='xr-var-data'><pre>array([&#x27;endog&#x27;], dtype=object)</pre></div></li></ul></div></li><li class='xr-section-item'><input id='section-359e4871-129e-4fdc-9abf-047c95c335ac' class='xr-section-summary-in' type='checkbox'  ><label for='section-359e4871-129e-4fdc-9abf-047c95c335ac' class='xr-section-summary' >Indexes: <span>(2)</span></label><div class='xr-section-inline-details'></div><div class='xr-section-details'><ul class='xr-var-list'><li class='xr-var-item'><div class='xr-index-name'><div>datetime</div></div><div class='xr-index-preview'>PandasIndex</div><div></div><input id='index-c9a8ff70-5725-4947-8b5e-8d86fd1094c9' class='xr-index-data-in' type='checkbox'/><label for='index-c9a8ff70-5725-4947-8b5e-8d86fd1094c9' title='Show/Hide index repr'><svg class='icon xr-icon-database'><use xlink:href='#icon-database'></use></svg></label><div class='xr-index-data'><pre>PandasIndex(DatetimeIndex([&#x27;2020-01-01 00:00:00&#x27;, &#x27;2020-01-01 00:30:00&#x27;,\n",
       "               &#x27;2020-01-01 01:00:00&#x27;, &#x27;2020-01-01 01:30:00&#x27;,\n",
       "               &#x27;2020-01-01 02:00:00&#x27;, &#x27;2020-01-01 02:30:00&#x27;,\n",
       "               &#x27;2020-01-01 03:00:00&#x27;, &#x27;2020-01-01 03:30:00&#x27;,\n",
       "               &#x27;2020-01-01 04:00:00&#x27;, &#x27;2020-01-01 04:30:00&#x27;,\n",
       "               ...\n",
       "               &#x27;2020-01-31 12:30:00&#x27;, &#x27;2020-01-31 13:00:00&#x27;,\n",
       "               &#x27;2020-01-31 13:30:00&#x27;, &#x27;2020-01-31 14:00:00&#x27;,\n",
       "               &#x27;2020-01-31 14:30:00&#x27;, &#x27;2020-01-31 15:00:00&#x27;,\n",
       "               &#x27;2020-01-31 15:30:00&#x27;, &#x27;2020-01-31 16:00:00&#x27;,\n",
       "               &#x27;2020-01-31 16:30:00&#x27;, &#x27;2020-01-31 17:00:00&#x27;],\n",
       "              dtype=&#x27;datetime64[ns]&#x27;, name=&#x27;datetime&#x27;, length=1475, freq=&#x27;30T&#x27;))</pre></div></li><li class='xr-var-item'><div class='xr-index-name'><div>component</div></div><div class='xr-index-preview'>PandasIndex</div><div></div><input id='index-f45c732d-694a-4cc5-a783-f130d8951f36' class='xr-index-data-in' type='checkbox'/><label for='index-f45c732d-694a-4cc5-a783-f130d8951f36' title='Show/Hide index repr'><svg class='icon xr-icon-database'><use xlink:href='#icon-database'></use></svg></label><div class='xr-index-data'><pre>PandasIndex(Index([&#x27;endog&#x27;], dtype=&#x27;object&#x27;, name=&#x27;component&#x27;))</pre></div></li></ul></div></li><li class='xr-section-item'><input id='section-a4725690-8fab-4540-a704-f5b1aacb9cfb' class='xr-section-summary-in' type='checkbox'  checked><label for='section-a4725690-8fab-4540-a704-f5b1aacb9cfb' class='xr-section-summary' >Attributes: <span>(2)</span></label><div class='xr-section-inline-details'></div><div class='xr-section-details'><dl class='xr-attrs'><dt><span>static_covariates :</span></dt><dd>None</dd><dt><span>hierarchy :</span></dt><dd>None</dd></dl></div></li></ul></div></div>"
      ],
      "text/plain": [
       "<TimeSeries (DataArray) (datetime: 1475, component: 1, sample: 1)>\n",
       "array([[[1244.]],\n",
       "\n",
       "       [[1188.]],\n",
       "\n",
       "       [[1156.]],\n",
       "\n",
       "       ...,\n",
       "\n",
       "       [[3961.]],\n",
       "\n",
       "       [[3957.]],\n",
       "\n",
       "       [[3946.]]])\n",
       "Coordinates:\n",
       "  * datetime   (datetime) datetime64[ns] 2020-01-01 ... 2020-01-31T17:00:00\n",
       "  * component  (component) object 'endog'\n",
       "Dimensions without coordinates: sample\n",
       "Attributes:\n",
       "    static_covariates:  None\n",
       "    hierarchy:          None"
      ]
     },
     "execution_count": 33,
     "metadata": {},
     "output_type": "execute_result"
    }
   ],
   "source": [
    "endog_timeseries"
   ]
  },
  {
   "cell_type": "code",
   "execution_count": 34,
   "id": "a0b79514",
   "metadata": {},
   "outputs": [
    {
     "data": {
      "image/png": "[encoded data removed]",
      "text/plain": [
       "<Figure size 640x480 with 1 Axes>"
      ]
     },
     "metadata": {},
     "output_type": "display_data"
    }
   ],
   "source": [
    "exog_timeseries.plot()"
   ]
  },
  {
   "cell_type": "code",
   "execution_count": 35,
   "id": "41a1390e",
   "metadata": {},
   "outputs": [],
   "source": [
    "endog_train, _ = endog_timeseries.split_before(0.8)"
   ]
  },
  {
   "cell_type": "code",
   "execution_count": 36,
   "id": "6ca6d192",
   "metadata": {},
   "outputs": [
    {
     "data": {
      "image/png": "[encoded data removed]",
      "text/plain": [
       "<Figure size 640x480 with 1 Axes>"
      ]
     },
     "metadata": {},
     "output_type": "display_data"
    }
   ],
   "source": [
    "endog_train.plot()"
   ]
  },
  {
   "cell_type": "code",
   "execution_count": 37,
   "id": "7c36b145",
   "metadata": {},
   "outputs": [],
   "source": [
    "from darts.metrics import rmse\n"
   ]
  },
  {
   "cell_type": "code",
   "execution_count": 38,
   "id": "57dcde49",
   "metadata": {},
   "outputs": [],
   "source": [
    "def eval_model(model, past_covariates=None, future_covariates=None):\n",
    "    # Past and future covariates are optional because they won't always be used in our tests\n",
    "    \n",
    "    # We backtest the model on the last 20% of the flow series, with a horizon of 10 steps:\n",
    "    backtest = model.historical_forecasts(series=endog, \n",
    "                                          past_covariates=past_covariates,\n",
    "                                          future_covariates=future_covariates,\n",
    "                                          start=0.8, \n",
    "                                          retrain=False,\n",
    "                                          verbose=True, \n",
    "                                          forecast_horizon=10)\n",
    "    flow[-len(backtest)-100:].plot()\n",
    "    backtest.plot(label='backtest (n=10)')\n",
    "    print('Backtest RMSE = {}'.format(rmse(endog, backtest)))"
   ]
  },
  {
   "cell_type": "code",
   "execution_count": null,
   "id": "e62fa6fd",
   "metadata": {},
   "outputs": [
    {
     "name": "stderr",
     "output_type": "stream",
     "text": [
      "GPU available: False, used: False\n",
      "TPU available: False, using: 0 TPU cores\n",
      "IPU available: False, using: 0 IPUs\n",
      "HPU available: False, using: 0 HPUs\n",
      "\n",
      "  | Name          | Type             | Params\n",
      "---------------------------------------------------\n",
      "0 | criterion     | MSELoss          | 0     \n",
      "1 | train_metrics | MetricCollection | 0     \n",
      "2 | val_metrics   | MetricCollection | 0     \n",
      "3 | rnn           | RNN              | 2.0 K \n",
      "4 | fc            | Sequential       | 260   \n",
      "---------------------------------------------------\n",
      "2.3 K     Trainable params\n",
      "0         Non-trainable params\n",
      "2.3 K     Total params\n",
      "0.018     Total estimated model params size (MB)\n"
     ]
    },
    {
     "data": {
      "application/vnd.jupyter.widget-view+json": {
       "model_id": "ff447de2e26a4a4285afa1557797d900",
       "version_major": 2,
       "version_minor": 0
      },
      "text/plain": [
       "Training: 0it [00:00, ?it/s]"
      ]
     },
     "metadata": {},
     "output_type": "display_data"
    }
   ],
   "source": [
    "from darts.models import BlockRNNModel\n",
    "\n",
    "brnn_no_cov = BlockRNNModel(input_chunk_length=30, \n",
    "                            output_chunk_length=10, \n",
    "                            n_rnn_layers=2)\n",
    "brnn_no_cov.to_cpu()\n",
    "brnn_no_cov.fit(endog_train, \n",
    "                epochs=1, \n",
    "                verbose=True)\n",
    "\n"
   ]
  },
  {
   "cell_type": "code",
   "execution_count": null,
   "id": "88533c77",
   "metadata": {},
   "outputs": [],
   "source": []
  },
  {
   "cell_type": "code",
   "execution_count": null,
   "id": "53370d11",
   "metadata": {},
   "outputs": [],
   "source": [
    "eval_model(brnn_no_cov)"
   ]
  },
  {
   "cell_type": "code",
   "execution_count": null,
   "id": "8a23d217",
   "metadata": {},
   "outputs": [],
   "source": [
    "print(mod.summary())"
   ]
  },
  {
   "cell_type": "code",
   "execution_count": null,
   "id": "126c91dd",
   "metadata": {},
   "outputs": [],
   "source": [
    "# Forecast\n",
    "forecast_length = 100\n",
    "results = mod.get_forecast(forecast_length, exog = exog_test[:forecast_length], alpha=0.05)\n",
    "forecast = results.predicted_mean\n",
    "confidence_int = results.conf_int()"
   ]
  },
  {
   "cell_type": "code",
   "execution_count": null,
   "id": "bf2d5eba",
   "metadata": {},
   "outputs": [],
   "source": [
    "forecast"
   ]
  },
  {
   "cell_type": "code",
   "execution_count": null,
   "id": "9e891d32",
   "metadata": {},
   "outputs": [],
   "source": [
    "def plot_forecast(fc, train, test, windspeed, upper=None, lower=None):\n",
    "    is_confidence_int = isinstance(upper, np.ndarray) and isinstance(lower, np.ndarray)\n",
    "    # Prepare plot series\n",
    "    fc_series = pd.Series(fc, index=test.index)\n",
    "    wind_series = pd.Series(windspeed)\n",
    "    wind_series = wind_series\n",
    "    lower_series = pd.Series(upper, index=test.index) if is_confidence_int else None\n",
    "    upper_series = pd.Series(lower, index=test.index) if is_confidence_int else None\n",
    "\n",
    "    # Plot\n",
    "    plt.figure(figsize=(10,4), dpi=100)\n",
    "    plt.plot(train, label='training generation', color='black')\n",
    "    plt.plot(test, label='actual generation', color='black', ls='--')\n",
    "    plt.plot(fc_series, label='forecast generation', color='orange')\n",
    "    plt.plot(wind_series, label='wind speed in hull', color='blue')\n",
    "    plt.xlim(test_begin_point-200,test_begin_point+200)\n",
    "    if is_confidence_int:\n",
    "        plt.fill_between(lower_series.index, lower_series, upper_series, color='k', alpha=.15)\n",
    "    plt.title('Forecast vs Actuals')\n",
    "    plt.legend(loc='upper left', fontsize=8);"
   ]
  },
  {
   "cell_type": "code",
   "execution_count": null,
   "id": "5f0d072c",
   "metadata": {},
   "outputs": [],
   "source": []
  },
  {
   "cell_type": "code",
   "execution_count": null,
   "id": "81c12769",
   "metadata": {},
   "outputs": [],
   "source": [
    "endog_test = pd.DataFrame(endog_test)\n",
    "endog_test.index = endog_test.index + test_begin_point"
   ]
  },
  {
   "cell_type": "code",
   "execution_count": null,
   "id": "647ae393",
   "metadata": {},
   "outputs": [],
   "source": [
    "forecast_recons = pd.Series(forecast, index=endog_test.index[:forecast_length])\n",
    "\n",
    "plot_forecast(forecast_recons,endog_train, endog_test, wind_df_long[\"windspeed\"])"
   ]
  },
  {
   "cell_type": "code",
   "execution_count": null,
   "id": "260f9743",
   "metadata": {},
   "outputs": [],
   "source": []
  },
  {
   "cell_type": "code",
   "execution_count": null,
   "id": "3dda1bcc",
   "metadata": {},
   "outputs": [],
   "source": []
  }
 ],
 "metadata": {
  "kernelspec": {
   "display_name": "Python 3 (ipykernel)",
   "language": "python",
   "name": "python3"
  },
  "language_info": {
   "codemirror_mode": {
    "name": "ipython",
    "version": 3
   },
   "file_extension": ".py",
   "mimetype": "text/x-python",
   "name": "python",
   "nbconvert_exporter": "python",
   "pygments_lexer": "ipython3",
   "version": "3.10.9"
  },
  "toc": {
   "base_numbering": 1,
   "nav_menu": {},
   "number_sections": true,
   "sideBar": true,
   "skip_h1_title": false,
   "title_cell": "Table of Contents",
   "title_sidebar": "Contents",
   "toc_cell": false,
   "toc_position": {},
   "toc_section_display": true,
   "toc_window_display": false
  }
 },
 "nbformat": 4,
 "nbformat_minor": 5
}
